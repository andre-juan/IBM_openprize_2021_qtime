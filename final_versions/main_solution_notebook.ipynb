{
 "cells": [
  {
   "cell_type": "markdown",
   "metadata": {},
   "source": [
    "# Main solution notebook - IBM Quantum Awards: Open Science Prize 2021 - QTime solution\n",
    "\n",
    "__________\n",
    "\n",
    "### QTime: *André Juan, Anton Simen, Askery Canabarro, Rafael Chaves, Rodrigo Pereira*\n",
    "\n",
    "__________"
   ]
  },
  {
   "cell_type": "markdown",
   "metadata": {
    "id": "ce9fe294"
   },
   "source": [
    "$$\\newcommand{\\ket}[1]{\\left|{#1}\\right\\rangle}$$\n",
    "$$\\newcommand{\\bra}[1]{\\left\\langle{#1}\\right|}$$"
   ]
  },
  {
   "cell_type": "markdown",
   "metadata": {},
   "source": [
    "MARKDOWN"
   ]
  },
  {
   "cell_type": "markdown",
   "metadata": {},
   "source": [
    "__________"
   ]
  },
  {
   "cell_type": "code",
   "execution_count": null,
   "metadata": {
    "ExecuteTime": {
     "end_time": "2022-04-23T04:01:52.127211Z",
     "start_time": "2022-04-23T04:01:20.849073Z"
    },
    "colab": {
     "base_uri": "https://localhost:8080/",
     "height": 351
    },
    "id": "4dd7c755",
    "outputId": "f9f8d974-26b5-4e31-facc-58a307594823"
   },
   "outputs": [],
   "source": [
    "from troter_utils import *"
   ]
  },
  {
   "cell_type": "markdown",
   "metadata": {
    "id": "11e7f173"
   },
   "source": [
    "## Quantum Devices\n"
   ]
  },
  {
   "cell_type": "code",
   "execution_count": null,
   "metadata": {
    "ExecuteTime": {
     "end_time": "2022-02-11T16:23:44.811156Z",
     "start_time": "2022-02-11T16:23:38.732827Z"
    },
    "id": "8a4e2f27"
   },
   "outputs": [],
   "source": [
    "provider = IBMQ.load_account()\n",
    "\n",
    "provider = IBMQ.get_provider(hub='ibm-q-community', group='ibmquantumawards', project='open-science-22')\n",
    "jakarta = provider.get_backend('ibmq_jakarta')\n",
    "\n",
    "sim_noisy_jakarta = QasmSimulator.from_backend(provider.get_backend('ibmq_jakarta'))"
   ]
  },
  {
   "cell_type": "markdown",
   "metadata": {
    "id": "a8d58d95"
   },
   "source": [
    "____________"
   ]
  },
  {
   "cell_type": "markdown",
   "metadata": {},
   "source": [
    "## Classical optimization of variational quantum circuit\n",
    "\n",
    "Each Trotter step is parametrized by a free \"time\" parameter.\n",
    "\n",
    "The best results were obtained with the folowing experiment:\n",
    "\n",
    "- First order trotterization;\n",
    "<br><br>\n",
    "- $t_{\\text{min}} =-\\pi$;\n",
    "    - That is, $t_{\\text{step}} \\in (-\\pi, \\pi)$;\n",
    "<br><br>\n",
    "- n_steps $\\in \\{4, 5, 6, 7, 8\\}$.\n",
    "\n",
    "So, this will be the parameters set for the optimization below.\n",
    "\n",
    "Of course, though, any other combination of input parameters may be tested!\n",
    "\n",
    "(Notice that, due to changes in error rates between callibrations, the best results may change. This is a natural part of working with NISQ hardware. Such variations were observed in the period of the solution development, and may be observed again, whenever the full pipeline runs again)."
   ]
  },
  {
   "cell_type": "code",
   "execution_count": null,
   "metadata": {},
   "outputs": [],
   "source": [
    "results = {\"order\" : [],\n",
    "           \"n_steps\" : [],\n",
    "           \"t_min\" : [],\n",
    "           \"state_tomo_fids\" : [],\n",
    "           \"fid_pi\" : [],\n",
    "           \"best_params\" : []}"
   ]
  },
  {
   "cell_type": "code",
   "execution_count": null,
   "metadata": {},
   "outputs": [],
   "source": [
    "# parameters of the desired experiment are set here!\n",
    "# parameters were chosen as discussed above.\n",
    "# feel free to change the parameters to try out different experiments!\n",
    "order = 1\n",
    "uniform_times = False\n",
    "backend_opt, backend_state_tomo = sim_noisy_jakarta, sim_noisy_jakarta\n",
    "quadratic_loss = False\n",
    "steps = range(4, 9)\n",
    "min_times = [-np.pi]\n",
    "\n",
    "combs = itertools.product(steps, min_times)\n",
    "\n",
    "for trotter_steps, params_bounds_min in combs:\n",
    "    \n",
    "    print(\"\\n\\n\")    \n",
    "    print(\"#\"*80)\n",
    "    print(\"=\"*80)\n",
    "    print(\"#\"*80)\n",
    "    print(f\"Order: {order}\".center(80))\n",
    "    print(f\"# steps: {trotter_steps}\".center(80))\n",
    "    print(f\"min time: {params_bounds_min}\".center(80))\n",
    "    print(\"#\"*80)\n",
    "    print(\"=\"*80)\n",
    "    print(\"#\"*80)\n",
    "    print(\"\\n\\n\")\n",
    "    \n",
    "    fids, fidelity_pi, best_params = optimize_params_and_run(order, trotter_steps, uniform_times, params_bounds_min,\n",
    "                                                             backend_opt, backend_state_tomo, quadratic_loss)\n",
    "    \n",
    "    results['order'].append(order)\n",
    "    results['n_steps'].append(trotter_steps)\n",
    "    results['t_min'].append(params_bounds_min)\n",
    "    results['state_tomo_fids'].append(fids)\n",
    "    results['fid_pi'].append(fidelity_pi)\n",
    "    results['best_params'].append(best_params)"
   ]
  },
  {
   "cell_type": "markdown",
   "metadata": {},
   "source": [
    "As you might have noticed, the classical optimization above may take some time. However, it is not necessary to perform it everytime that a job is submited for hardware execution: we will save its results to a parquet file (identified with the date, so that it's not overwritten if another optimization is desired later on). With that, one can simply skip to the \"Hardware Execution\" section, read the existing results file(s), and send jobs to execution, without having to re-run the classical optimization again (although this may be desirable, if one wants to optimize the parameters using he jakarta simulator with the same callibration settings that will be encountered in the actual hardware).\n",
    "\n",
    "Obs.: files were saved as parquet, because it allows for an easier parse of columns of lists (best_params, eg). You must have `pyarrow` or `fastparquet` installed to work with this kind of file."
   ]
  },
  {
   "cell_type": "markdown",
   "metadata": {},
   "source": [
    "### Structuring and saving classical optimization results"
   ]
  },
  {
   "cell_type": "code",
   "execution_count": null,
   "metadata": {},
   "outputs": [],
   "source": [
    "df_results = pd.DataFrame(results).sort_values(\"fid_pi\", ascending=False)\n",
    "df_results[\"fid_pi\"] = df_results[\"fid_pi\"].astype(\"float\")\n",
    "\n",
    "# let's save in the same folder (so it won't be mixed with previous results)\n",
    "file_results = f\"results_judge_test_{dt.datetime.today().date()}.parquet\"\n",
    "df_results.to_parquet(file_results, index=False)\n",
    "\n",
    "df_results"
   ]
  },
  {
   "cell_type": "markdown",
   "metadata": {},
   "source": [
    "___________"
   ]
  },
  {
   "cell_type": "markdown",
   "metadata": {
    "id": "e00f16de"
   },
   "source": [
    "## Hardware execution\n",
    "\n",
    "After we have the optimized parameters for all combinations above, we'll submit the jobs for hardware execution.\n",
    "\n",
    "We'll read the file generated above, for completeness."
   ]
  },
  {
   "cell_type": "markdown",
   "metadata": {},
   "source": [
    "Depending on the date in which this code is executed by the judges (and the amount of different dates), we may have different results. So, let's show a list of them all:"
   ]
  },
  {
   "cell_type": "code",
   "execution_count": null,
   "metadata": {},
   "outputs": [],
   "source": [
    "results_files = [f for f in listdir(\"./\") if isfile(join(\"./\", f))]\n",
    "\n",
    "results_judge = [x for x in results_files if \"results_judge_test\" in x]\n",
    "\n",
    "results_judge"
   ]
  },
  {
   "cell_type": "code",
   "execution_count": null,
   "metadata": {
    "ExecuteTime": {
     "end_time": "2022-04-23T04:03:37.669723Z",
     "start_time": "2022-04-23T04:03:37.665723Z"
    }
   },
   "outputs": [],
   "source": [
    "# please set the string below with the desired date\n",
    "# IMPORTANT: it must be in the format \"YYYY-MM-DD\", \n",
    "# as specified in the code which generates the results file!\n",
    "# (you may use the list above to see all the available dates)\n",
    "str_date = \"\""
   ]
  },
  {
   "cell_type": "code",
   "execution_count": null,
   "metadata": {
    "ExecuteTime": {
     "end_time": "2022-04-23T04:03:39.845814Z",
     "start_time": "2022-04-23T04:03:39.818263Z"
    }
   },
   "outputs": [],
   "source": [
    "# check\n",
    "if str_date == \"\":\n",
    "    raise ValueError(\"\\n\\nPlease, set the date string, as instructed above!!\\n\")"
   ]
  },
  {
   "cell_type": "code",
   "execution_count": null,
   "metadata": {
    "id": "6cd0ec83"
   },
   "outputs": [],
   "source": [
    "df_results_read = pd.read_parquet(f'./results/results_opt_first_order_{str_date}.parquet')\n",
    "\n",
    "df_results_read"
   ]
  },
  {
   "cell_type": "markdown",
   "metadata": {},
   "source": [
    "_____________\n",
    "\n",
    "### Sending jobs for execution, and saving pickle file with jobs IDs"
   ]
  },
  {
   "cell_type": "code",
   "execution_count": null,
   "metadata": {},
   "outputs": [],
   "source": [
    "jobs_dict = send_jobs(df_results_read, jakarta, uniform_times=False)\n",
    "\n",
    "jobs_dict"
   ]
  },
  {
   "cell_type": "code",
   "execution_count": null,
   "metadata": {},
   "outputs": [],
   "source": [
    "jobs_dict_ids = {}\n",
    "\n",
    "for k, v in jobs_dict.items():\n",
    "    \n",
    "    ids = [x._job_id for x in v]\n",
    "    \n",
    "    jobs_dict_ids[k] = ids\n",
    "    \n",
    "with open(f'dict_jobs_ids_judge_test_{str_date}.pkl', 'wb') as f:\n",
    "    pickle.dump(jobs_dict_ids, f)\n",
    "    \n",
    "jobs_dict_ids"
   ]
  },
  {
   "cell_type": "markdown",
   "metadata": {},
   "source": [
    "_____________\n",
    "\n",
    "### Retrieving hardware execution results, and producing final results"
   ]
  },
  {
   "cell_type": "code",
   "execution_count": null,
   "metadata": {},
   "outputs": [],
   "source": [
    "final_results_analysis(f'dict_jobs_ids_judge_test_{str_date}.pkl', jakarta, print_all_details=False, save_here=True)"
   ]
  },
  {
   "cell_type": "markdown",
   "metadata": {},
   "source": [
    "_____________\n",
    "\n",
    "# And that's it! "
   ]
  }
 ],
 "metadata": {
  "colab": {
   "collapsed_sections": [],
   "name": "IBM_OSC_solution_QTime_v1.ipynb",
   "provenance": []
  },
  "kernelspec": {
   "display_name": "Python 3",
   "language": "python",
   "name": "python3"
  },
  "language_info": {
   "codemirror_mode": {
    "name": "ipython",
    "version": 3
   },
   "file_extension": ".py",
   "mimetype": "text/x-python",
   "name": "python",
   "nbconvert_exporter": "python",
   "pygments_lexer": "ipython3",
   "version": "3.8.3"
  },
  "toc-autonumbering": false,
  "toc-showcode": false,
  "toc-showmarkdowntxt": false,
  "toc-showtags": false
 },
 "nbformat": 4,
 "nbformat_minor": 5
}
