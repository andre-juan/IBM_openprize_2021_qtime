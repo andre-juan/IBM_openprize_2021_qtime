{
 "cells": [
  {
   "cell_type": "markdown",
   "metadata": {},
   "source": [
    "# Main solution notebook - IBM Quantum Awards: Open Science Prize 2021 - QTime solution\n",
    "\n",
    "__________\n",
    "\n",
    "### QTime: *André Juan, Anton Simen, Askery Canabarro, Rafael Chaves, Rodrigo Pereira*\n",
    "\n",
    "__________"
   ]
  },
  {
   "cell_type": "markdown",
   "metadata": {
    "id": "ce9fe294"
   },
   "source": [
    "$$\\newcommand{\\ket}[1]{\\left|{#1}\\right\\rangle}$$\n",
    "$$\\newcommand{\\bra}[1]{\\left\\langle{#1}\\right|}$$"
   ]
  },
  {
   "cell_type": "markdown",
   "metadata": {},
   "source": [
    "## 1 - The Problem, The Goal and Our Approach\n",
    "\n",
    "The IBM Quantum Awards: Open Science Prize 2021 challenge features an important problem from the field of quantum simulation. Simulating physical systems on quantum computers is a promising application of quantum processors in the NISQ era, as one can represent quantum states (e.g., the spin states) of particles as the computational states of qubits.\n",
    "\n",
    "The problem proposed in the challenge is the simulation of the evolution of a Heisenberg model Hamiltonian for a three-particle system on IBM Quantum’s 7-qubit Jakarta system. The goal is to simulate the evolution of a known quantum state with the best fidelity as possible via Trotterization and employing the tools of either Qiskit Pulse or Qiskit defaults to implement the algorithm to be run in the Jakarta system.\n",
    "\n",
    "\n",
    "In our solution, we explored the interplay of three major ingredients: the order of the Trotter-Suzuki decomposition; the number of steps, and the time duration for each step, not taken to be uniform. As will be detailed below, after simulating a number of scenarios we focused on first and second order Trotter decompositions only. We tried different number of trotterization steps ranging from 4 to 8. One key ingredient of our approach was to optimize the duration of each trotterization step in order to achieve the highest fidelity at $t = \\pi$ using the Sequential Least SQuares Programming (SLSQP) optimizer. This places our solution within the variational/parameterized quantum circuits landscape. We solved the problem using Qiskit defaults. Please check our GitHub Repository for a detailed implementation of our solution [1]. \n",
    "\n",
    "____________________\n",
    "\n",
    "We propose a Trotter-Suzuki decomposition with different times for each step, provided that the time steps sum up to the total evolution time ($t=\\pi$). That is, we write the trotterized operator $U_{\\text{Heis3}}(t)$ as\n",
    "\n",
    "\\begin{equation}\n",
    "U_{\\text{Heis3}}(t) \\approx \\prod_{i=1}^n U_i^{(k)}(t_i),\n",
    "\\label{eq:heis}\n",
    "\\end{equation}\n",
    "where $U_i^{(k)}(t_i)$ represents the $i$-th trotterization step, using a trotter decomposition of $k$-th order; and $n \\geq 4$ is the number of steps. We considered Trotter decompositions of orders $k=1, 2$.\n",
    "\n",
    "\\subsection{First-order trotterization ($k = 1$)}\n",
    "\\label{subsec:k1}\n",
    "\n",
    "The unitary operator for the first-order trotterization is given by\n",
    "\\begin{equation}\n",
    "U_i^{(1)}(t_i) = XX(2t_i)^{(1, 2)} YY(2t_i)^{(1, 2)} ZZ(2t_i)^{(1, 2)} XX(2t_i)^{(0, 1)} YY(2t_i)^{(0, 1)} ZZ(2t_i)^{(0, 1)}.\n",
    "\\label{eq:trotter_k1}\n",
    "\\end{equation}\n",
    "\n",
    "\n",
    "Fig. 1. The figure below represents the quantum circuit of a single trotter step for the first-order trotterization. The competition rules requires at least four steps, regardless of the trotterization order.\n",
    "\n",
    "<img src=\"figs_main_notebook/fig1.png\">\n",
    "\n",
    "\\subsection{Second-order trotterization ($k = 2$)}\n",
    "\\label{subsec:k2}\n",
    "\n",
    "For the second-order trotterization, the operator is given by\n",
    "\\begin{equation}\n",
    "U_i^{(2)}(t_i) = XX(t_i)^{(0, 1)} YY(t_i)^{(0, 1)} ZZ(t_i)^{(0, 1)}\n",
    "XX(2t_i)^{(1, 2)} YY(2t_i)^{(1, 2)} ZZ(2t_i)^{(1, 2)}\n",
    "XX(t_i)^{(0, 1)} YY(t_i)^{(0, 1)} ZZ(t_i)^{(0, 1)}.\n",
    "\\label{eq:trotter_k2}\n",
    "\\end{equation}\n",
    "\n",
    "Fig. 2. The figure below represents the quantum circuit of a single trotter step for the second-order trotterization. \n",
    "\n",
    "<img src=\"figs_main_notebook/fig2.jpg\">\n",
    "\n",
    "The superscripts $(0, 1)$ and $(1, 2)$ indicate, respectively, that the operator is acting on the first/second and second/third qubit pairs."
   ]
  },
  {
   "cell_type": "markdown",
   "metadata": {},
   "source": [
    "### 1.2 Non-uniform time-decomposition steps and optimization\n",
    "\n",
    "\n",
    "Following a first-discretize-then-optimize approach, for any trotterization order, the total evolution time is decomposed into $n$ steps of duration $t_i$, such that $\\sum_{i=1}^{n}t_i = t$. \n",
    "\n",
    "One important aspect of our approach is that we do not assume a fixed interval, such as $t_i = t/n$, but rather allow for non-uniform times, as long as the total evolution time corresponds to the target time $t=\\pi$. This was a key ingredient in our approach, as will be clear ahead.\n",
    "\n",
    "Now, we treated the step times $t_i$ as free parameters, such that the full troterrization circuit is seen as a variational circuit. The goal then becomes to find the best parameter values, subject to the $\\sum_{i=1}^{n}t_i = t$ constraint.\n",
    "\n",
    "With that aim, we used the fidelity at $t=\\pi$ as the loss function to be optimized with SciPy's implementation of the Sequential Least Squares Programming (SLSQP) for constrained optimization.\n",
    "\n",
    "SLSQP minimizes a function of several variables with  constraints [2]. Given a number of steps $n$, say $n=4$, we minimize the negative of fidelity (a natural cost function because we we want to maximize the fidelity) in function of an array of time steps, say $[t_1, t_2, t_3, t_4]$ with the constraint that the time evolution sums up to $\\pi$, where $t_i$ represents the time duration of the $i$-th trotter step. We also explicitly impose the restriction that the individual $t_i$ must be non-null, so that the respective step is effectively present in the circuit, i.e. $t_i > \\epsilon$, with $\\epsilon > 0$. We can then play with the optimization performance in function of $\\epsilon$, as shown below.\n",
    "\n",
    "For this, we used the SciPyOptimizer, please check [2] for an overview of the optimizer and its main parameters. Seeking to reduced local minima/barren plateaus issues, we tried three step size ($eps$) values used for numerical approximation, $eps = [0.1, 0.01, 0.001]$, taking the best (lowest cost function) as our optimum time schedule. More details can be found by inspecting the file $\\text{trotter_utils.py}$, which contains the definition of all the functions constructed for this process.\n",
    "\n",
    "Since the optimization of the variational circuit demands a large number of circuit executions, it was done using a simulator. However, to better capture Jakarta's behavior, we used its noise profile for the simulation. That is, the fidelity used as the loss function was obtained from a noisy simulation, an approach that made the optimization process harder, but certainly more realistic. "
   ]
  },
  {
   "cell_type": "markdown",
   "metadata": {},
   "source": [
    "## Results and discussions\n",
    "\n",
    "Before we dive deeper in our results, it is worth mentioning that the best simulated values may not be exactly reproducible due to IBM calibration events, meaning that executions of the same code in diverse dates may differ \\cite{ibmprop}. In fact, our best results were compiled from jobs executed by different members of the team in different dates and we are using the best values achieved.\n",
    "\n",
    "Interestingly, by imposing the constraint that all times must be positive, in many cases the optimization process yielded null step times for most of the parameters, leaving only two non-zero times, equally divided as $\\frac{\\pi}{2}$ each. This would correspond to effectively performing only two steps. Therefore, to fulfill the requirements of the challenge, this is why we imposed that all steps must be non-zero, by requiring that $t_i > \\epsilon$, with $\\epsilon > 0$. \n",
    "\n",
    "Some of our first best results were obtained setting $\\epsilon = 0.01$, which was indeed picked as the values for most of the parameters. Thus, for any chosen number of trottrerization steps $n$, all such steps are effectively present and performed by the quantum circuit, satisfying the conditions imposed by the challenge at hand.\n",
    "\n",
    "Inspired by the fact that smaller time steps could provide better solutions, we also tested $\\epsilon = 0.001$ e $\\epsilon = 0.0005$, for different number of steps ($n$), again with $n \\in [4,5,6,7,8]$. In total, we tried four values of $\\epsilon \\in [0.1, 0.01, 0.001, 0.0005]$. We decided not to further decrease the minimum time duration, $\\epsilon$, beyond the forth decimal place because it would be smaller than the precision we provide for the computation of the fidelity of the target state at $\\pi$. As already mentioned, we tested only first and second order trotterization. \n",
    "\n",
    "Overall, we studied ans experimented with $40$ different combinations of $k, n, \\epsilon$. A summary of our simulated investigations versus hardware execution is given in the Table 1. For each tuple ($k, n, \\epsilon$) we provide the mean fidelity, the best fidelity and  the corresponding standard deviation (std.) of $8$ hardware executions, as well as the mean simulated fidelity (also with its std.) along with the best parameters for the time step schedule. The table is sorted in descending order with respect to mean of the simulated fidelity in the fake jakarta backend.  \n",
    "\n",
    "It is clear that the real executions provide worst results than the simulated ones.  As can be seen, both for the real executions on Jakarta's backend and its simulator, the best results are achieved considering $k=1$ (first-order trotterization) and $n=4$ (the minimum allowed number of steps). \n",
    "\n",
    "In two of the cases, shown in boldface, we could exceed the minimum required of $0.3$ for the fidelity at $t =\\pi$ both for the best of the individual experiment and the mean of the $8$ hardware executions. The best individual and mean fidelities achieved were respectively $0.387$ and $0.324$ for the hardware execution, with $k =1$, $n=4$ and $\\epsilon = 0.001$.  \n",
    "\n",
    "\n",
    "Fig. 3. Evolution of the state $\\ket{110}$ under $U_{\\text{Heis3}}(t)$ for a first-order trotterization with $4$ steps.\n",
    "\n",
    "<img src=\"figs_main_notebook/fig3_evolution.png\" width=600>\n",
    "\n",
    "As aforementioned, we performed the variational circuit optimization by using only information of $t=\\pi$ in the cost function. However, we wondered if it was possible to capture the whole dynamics even with such limited information. In other words, we wanted to know if our solution made complete sense. And, quite remarkably, it was possible to recover the whole dynamics by the following procedure:\n",
    "\\begin{itemize}\n",
    "\\item We first determined the best parameters $t_i$ by optimizing the loss calculated at $t=\\pi$;\n",
    "\n",
    "\\item This yields a $n$-dimensional parameters vector $\\vec{t}$, whose components sum to $t=\\pi$;\n",
    "\n",
    "\\item We then normalized this vector, so that its components sum to 1, by dividing each component by $t=\\pi$, $\\vec{t}_{\\text{norm}} = \\frac{1}{t}\\vec{t}$. The components of this normalized vector indicates the percentual contribution of each step duration to the whole evolution;\n",
    "\n",
    "\\item We produced $100$ intermediate times between $0$ and $\\pi$. The normalized vector was then used to parametrize the evolution using each one of the intermediate times as the target time $t_{\\text{target}}$, i.e., keeping the same proportion found by optmization at $t=\\pi$, and making the parameter vector sum to $t_{\\text{target}}$: $\\vec{t}_{\\text{target}} = t_{\\text{target}} \\vec{t}_{\\text{norm}}$;\n",
    "\n",
    "\\item The fidelity of the target state was then measured at each one of these intermediate target times.\n",
    "\\end{itemize}\n",
    "\n",
    "And indeed, we can see that the dynamics was correctly captured for all the intermediate steps as shown in Fig. 3.\n",
    "\n",
    "\n",
    "Thus, by learning the proportional contribution of each step to the total evolution with information only available at $t=\\pi$, we were able to reconstruct, qualitatively and quantitatively, the full dynamics. This is a quite interesting result. \n",
    "\n",
    "However, this reconstruction is, in general, not possible when null time step is allowed (e.g. $[0, 0, 0, \\pi]$, representing a simple rotation). Therefore, our imposition of non-null time, besides of better complying the rules, avoids these trivial solutions. In the folder 'figs' in our full solution material and repository, more evolution plots are presented.\n",
    "\n",
    "<img src=\"figs_main_notebook/table1.jpeg\">"
   ]
  },
  {
   "cell_type": "markdown",
   "metadata": {},
   "source": [
    "As the results mentioned above showed an accentuated discrepancy between the hardware and the simulation, we considered yet another possibility for the constraints on the parameters values: instead of imposing only positive, non-null step times, we allowed negative values for these parameters. \n",
    "\n",
    "The procedure is similar to one described above. However, we relax the constraints and allow negative sign values for the parameters, so that $t_i \\in (-\\pi, \\pi)$. Again, the constraint is that sum has to add up to $\\pi$. Of course, only solutions with more than $4$ non-null terms should be considered a valid solution. Furthermore, negative \"times\" in the decomposition may be taken to be, for instance, counterclockwise rotations, given that, in the end, the \"times\" are merely rotation angles.\n",
    "\n",
    "Now, despite the discussion above, we see that this approach of allowing negative times is situated in a gray area of compliance with the rules of the competition. Given that, the results are only briefly mentioned, but for the sake of completeness of our approach, we decide to include them here, as well as in the code material. Please check Table 2 for a quick overview.\n",
    "\n",
    "<img src=\"figs_main_notebook/table2.jpeg\">\n",
    "\n",
    "Again, in two cases we got results which beat the minimum fidelity required. Again only for first order, but with $7$ and $5$ trotterization steps, not $4$ steps, as was observed when we imposed positive, non-negative parameters.\n",
    "\n",
    "Now, quite interestingly, we achieved much better results with negative times. The mean fidelity with hardware execution reached $0.4459$ for the best scenario and more than $0.61$ for an individual run.  It is worth mentioning that the time schedule never returned null times, although we observed parameters which where almost perfect opposites.\n",
    "\n",
    "Also interestingly, in both these cases ($n = 5$ and $n=7$ steps), the overall dynamics was relatively well reconstructed, as shown in figures below. This indicates that what happens when one allows for negative times is not the same that was observed when we had a single non-null step size of $\\pi$. Although in a grey area, we see this as an interesting result, worthy further exploration.\n",
    "\n",
    "\n",
    "Fig. 4. Evolution of the state $\\ket{110}$ under $U_{\\text{Heis3}}(t)$ for a first-order trotterization with $5$ steps and allowed negative times.\n",
    "\n",
    "<img src=\"figs_main_notebook/neg_5steps.PNG\" width=600>\n",
    "\n",
    "\n",
    "Fig. 5. Evolution of the state $\\ket{110}$ under $U_{\\text{Heis3}}(t)$ for a first-order trotterization with $7$ steps and allowed negative times.\n",
    "\n",
    "<img src=\"figs_main_notebook/neg_7steps.PNG\" width=600>\n",
    "\n",
    "Given the nature of our approach, it may be argued that the resulting trotterization unitary is very close to the identity, in both cases: the ones in which the trotterization steps are quite small, as well as in the ones in which we allow for negative parameters (which converged to parameters with opposite values). Naturally, the identity would yield a quite high fidelity at $t=\\pi$, given the periodicity of the problem. Now, the reconstruction of the full dynamics (as shown in Figs. 3-5, and all others in the \"figs/\" folder) prove that our circuit is not implementing the identity (otherwise, we would expect a constant high fidelity throughout the full evolution, i.e., for all $t \\in (0, \\pi)$. \n",
    "\n",
    "But in order to check this fact more quantitatively, we construct the explicit unitary (using Qiskit's unitary simulator) for each one of the experiments, and compared them to the identity, via the Frobenius norm of their difference, $\\left \\| U_{\\text{Heis3}} - \\mathbb{1} \\right \\|_F = \\left( \\sum_{ij} |(U_{\\text{Heis3}} - \\mathbb{1})_{ij}|^2\\right )^{1/2}$. We considered the matrices to be equal if this norm is smaller than a cuttof of $0.0001$. For the 40 experiments, only 5 combinations met this criteria, which means that for the vast majority, the resulting trotterized unitary is significantly different from the identity operator.\n",
    "\n",
    "All the results described above can be found consolidated in a table in the \"final\\_results\\_all\\_experiments.parquet\", which is in the \"results/\" folder. All the results are consolidated in the \"final\\_results\\_analysis.ipynb\" notebook. Please refer to these files for further details.\n",
    "\n",
    "\n",
    "In summary, we believe that our approach shed new light on how to implement a variational-aided Trotter-Suzuki expansion of a given Hamiltonian. Although we only explicitly explored the Hamiltonian proposed in the challenge, our approach is sufficiently generic to be applied to other Hamiltonians, which shall be done in future studies. \n",
    "\n",
    "The limitations of scalability of the parameters optimization procedure with the number of steps or the order of the trotterization (in virtue of the availability of scalable quantum computational resources) can be satisfactorily circumvented by the use of a simulator, as we have shown above. Indeed, the usage of both classical and quantum computing resources in hybrid routines, characteristic of NISQ era quantum computing, has been show to be a fruitful approach for a myriad of problems. With our project, we present yet another example of a successful application of this approach."
   ]
  },
  {
   "cell_type": "markdown",
   "metadata": {},
   "source": [
    "__________"
   ]
  },
  {
   "cell_type": "code",
   "execution_count": null,
   "metadata": {
    "ExecuteTime": {
     "end_time": "2022-04-23T04:01:52.127211Z",
     "start_time": "2022-04-23T04:01:20.849073Z"
    },
    "colab": {
     "base_uri": "https://localhost:8080/",
     "height": 351
    },
    "id": "4dd7c755",
    "outputId": "f9f8d974-26b5-4e31-facc-58a307594823"
   },
   "outputs": [],
   "source": [
    "from troter_utils import *"
   ]
  },
  {
   "cell_type": "markdown",
   "metadata": {
    "id": "11e7f173"
   },
   "source": [
    "## Quantum Devices\n"
   ]
  },
  {
   "cell_type": "code",
   "execution_count": null,
   "metadata": {
    "ExecuteTime": {
     "end_time": "2022-02-11T16:23:44.811156Z",
     "start_time": "2022-02-11T16:23:38.732827Z"
    },
    "id": "8a4e2f27"
   },
   "outputs": [],
   "source": [
    "provider = IBMQ.load_account()\n",
    "\n",
    "provider = IBMQ.get_provider(hub='ibm-q-community', group='ibmquantumawards', project='open-science-22')\n",
    "jakarta = provider.get_backend('ibmq_jakarta')\n",
    "\n",
    "sim_noisy_jakarta = QasmSimulator.from_backend(provider.get_backend('ibmq_jakarta'))"
   ]
  },
  {
   "cell_type": "markdown",
   "metadata": {
    "id": "a8d58d95"
   },
   "source": [
    "____________"
   ]
  },
  {
   "cell_type": "markdown",
   "metadata": {},
   "source": [
    "## Classical optimization of variational quantum circuit\n",
    "\n",
    "Each Trotter step is parametrized by a free \"time\" parameter.\n",
    "\n",
    "The best results were obtained with the folowing experiment:\n",
    "\n",
    "- First order trotterization;\n",
    "<br><br>\n",
    "- $t_{\\text{min}} =-\\pi$;\n",
    "    - That is, $t_{\\text{step}} \\in (-\\pi, \\pi)$;\n",
    "<br><br>\n",
    "- n_steps $\\in \\{4, 5, 6, 7, 8\\}$.\n",
    "\n",
    "So, this will be the parameters set for the optimization below.\n",
    "\n",
    "Of course, though, any other combination of input parameters may be tested!\n",
    "\n",
    "(Notice that, due to changes in error rates between callibrations, the best results may change. This is a natural part of working with NISQ hardware. Such variations were observed in the period of the solution development, and may be observed again, whenever the full pipeline runs again)."
   ]
  },
  {
   "cell_type": "code",
   "execution_count": null,
   "metadata": {},
   "outputs": [],
   "source": [
    "results = {\"order\" : [],\n",
    "           \"n_steps\" : [],\n",
    "           \"t_min\" : [],\n",
    "           \"state_tomo_fids\" : [],\n",
    "           \"fid_pi\" : [],\n",
    "           \"best_params\" : []}"
   ]
  },
  {
   "cell_type": "code",
   "execution_count": null,
   "metadata": {},
   "outputs": [],
   "source": [
    "# parameters of the desired experiment are set here!\n",
    "# parameters were chosen as discussed above.\n",
    "# feel free to change the parameters to try out different experiments!\n",
    "order = 1\n",
    "uniform_times = False\n",
    "backend_opt, backend_state_tomo = sim_noisy_jakarta, sim_noisy_jakarta\n",
    "quadratic_loss = False\n",
    "steps = range(4, 9)\n",
    "min_times = [-np.pi]\n",
    "\n",
    "combs = itertools.product(steps, min_times)\n",
    "\n",
    "for trotter_steps, params_bounds_min in combs:\n",
    "    \n",
    "    print(\"\\n\\n\")    \n",
    "    print(\"#\"*80)\n",
    "    print(\"=\"*80)\n",
    "    print(\"#\"*80)\n",
    "    print(f\"Order: {order}\".center(80))\n",
    "    print(f\"# steps: {trotter_steps}\".center(80))\n",
    "    print(f\"min time: {params_bounds_min}\".center(80))\n",
    "    print(\"#\"*80)\n",
    "    print(\"=\"*80)\n",
    "    print(\"#\"*80)\n",
    "    print(\"\\n\\n\")\n",
    "    \n",
    "    fids, fidelity_pi, best_params = optimize_params_and_run(order, trotter_steps, uniform_times, params_bounds_min,\n",
    "                                                             backend_opt, backend_state_tomo, quadratic_loss)\n",
    "    \n",
    "    results['order'].append(order)\n",
    "    results['n_steps'].append(trotter_steps)\n",
    "    results['t_min'].append(params_bounds_min)\n",
    "    results['state_tomo_fids'].append(fids)\n",
    "    results['fid_pi'].append(fidelity_pi)\n",
    "    results['best_params'].append(best_params)"
   ]
  },
  {
   "cell_type": "markdown",
   "metadata": {},
   "source": [
    "As you might have noticed, the classical optimization above may take some time. However, it is not necessary to perform it everytime that a job is submited for hardware execution: we will save its results to a parquet file (identified with the date, so that it's not overwritten if another optimization is desired later on). With that, one can simply skip to the \"Hardware Execution\" section, read the existing results file(s), and send jobs to execution, without having to re-run the classical optimization again (although this may be desirable, if one wants to optimize the parameters using he jakarta simulator with the same callibration settings that will be encountered in the actual hardware).\n",
    "\n",
    "Obs.: files were saved as parquet, because it allows for an easier parse of columns of lists (best_params, eg). You must have `pyarrow` or `fastparquet` installed to work with this kind of file."
   ]
  },
  {
   "cell_type": "markdown",
   "metadata": {},
   "source": [
    "### Structuring and saving classical optimization results"
   ]
  },
  {
   "cell_type": "code",
   "execution_count": null,
   "metadata": {},
   "outputs": [],
   "source": [
    "df_results = pd.DataFrame(results).sort_values(\"fid_pi\", ascending=False)\n",
    "df_results[\"fid_pi\"] = df_results[\"fid_pi\"].astype(\"float\")\n",
    "\n",
    "# let's save in the same folder (so it won't be mixed with previous results)\n",
    "file_results = f\"results_judge_test_{dt.datetime.today().date()}.parquet\"\n",
    "df_results.to_parquet(file_results, index=False)\n",
    "\n",
    "df_results"
   ]
  },
  {
   "cell_type": "markdown",
   "metadata": {},
   "source": [
    "___________"
   ]
  },
  {
   "cell_type": "markdown",
   "metadata": {
    "id": "e00f16de"
   },
   "source": [
    "## Hardware execution\n",
    "\n",
    "After we have the optimized parameters for all combinations above, we'll submit the jobs for hardware execution.\n",
    "\n",
    "We'll read the file generated above, for completeness."
   ]
  },
  {
   "cell_type": "markdown",
   "metadata": {},
   "source": [
    "Depending on the date in which this code is executed by the judges (and the amount of different dates), we may have different results. So, let's show a list of them all:"
   ]
  },
  {
   "cell_type": "code",
   "execution_count": null,
   "metadata": {},
   "outputs": [],
   "source": [
    "results_files = [f for f in listdir(\"./\") if isfile(join(\"./\", f))]\n",
    "\n",
    "results_judge = [x for x in results_files if \"results_judge_test\" in x]\n",
    "\n",
    "results_judge"
   ]
  },
  {
   "cell_type": "code",
   "execution_count": null,
   "metadata": {
    "ExecuteTime": {
     "end_time": "2022-04-23T04:03:37.669723Z",
     "start_time": "2022-04-23T04:03:37.665723Z"
    }
   },
   "outputs": [],
   "source": [
    "# please set the string below with the desired date\n",
    "# IMPORTANT: it must be in the format \"YYYY-MM-DD\", \n",
    "# as specified in the code which generates the results file!\n",
    "# (you may use the list above to see all the available dates)\n",
    "str_date = \"\""
   ]
  },
  {
   "cell_type": "code",
   "execution_count": null,
   "metadata": {
    "ExecuteTime": {
     "end_time": "2022-04-23T04:03:39.845814Z",
     "start_time": "2022-04-23T04:03:39.818263Z"
    }
   },
   "outputs": [],
   "source": [
    "# check\n",
    "if str_date == \"\":\n",
    "    raise ValueError(\"\\n\\nPlease, set the date string, as instructed above!!\\n\")"
   ]
  },
  {
   "cell_type": "code",
   "execution_count": null,
   "metadata": {
    "id": "6cd0ec83"
   },
   "outputs": [],
   "source": [
    "df_results_read = pd.read_parquet(f'./results/results_opt_first_order_{str_date}.parquet')\n",
    "\n",
    "df_results_read"
   ]
  },
  {
   "cell_type": "markdown",
   "metadata": {},
   "source": [
    "_____________\n",
    "\n",
    "### Sending jobs for execution, and saving pickle file with jobs IDs"
   ]
  },
  {
   "cell_type": "code",
   "execution_count": null,
   "metadata": {},
   "outputs": [],
   "source": [
    "jobs_dict = send_jobs(df_results_read, jakarta, uniform_times=False)\n",
    "\n",
    "jobs_dict"
   ]
  },
  {
   "cell_type": "code",
   "execution_count": null,
   "metadata": {},
   "outputs": [],
   "source": [
    "jobs_dict_ids = {}\n",
    "\n",
    "for k, v in jobs_dict.items():\n",
    "    \n",
    "    ids = [x._job_id for x in v]\n",
    "    \n",
    "    jobs_dict_ids[k] = ids\n",
    "    \n",
    "with open(f'dict_jobs_ids_judge_test_{str_date}.pkl', 'wb') as f:\n",
    "    pickle.dump(jobs_dict_ids, f)\n",
    "    \n",
    "jobs_dict_ids"
   ]
  },
  {
   "cell_type": "markdown",
   "metadata": {},
   "source": [
    "_____________\n",
    "\n",
    "### Retrieving hardware execution results, and producing final results"
   ]
  },
  {
   "cell_type": "code",
   "execution_count": null,
   "metadata": {},
   "outputs": [],
   "source": [
    "final_results_analysis(f'dict_jobs_ids_judge_test_{str_date}.pkl', jakarta, print_all_details=False, save_here=True)"
   ]
  },
  {
   "cell_type": "markdown",
   "metadata": {},
   "source": [
    "_____________\n",
    "\n",
    "# And that's it! "
   ]
  }
 ],
 "metadata": {
  "colab": {
   "collapsed_sections": [],
   "name": "IBM_OSC_solution_QTime_v1.ipynb",
   "provenance": []
  },
  "kernelspec": {
   "display_name": "Python 3",
   "language": "python",
   "name": "python3"
  },
  "language_info": {
   "codemirror_mode": {
    "name": "ipython",
    "version": 3
   },
   "file_extension": ".py",
   "mimetype": "text/x-python",
   "name": "python",
   "nbconvert_exporter": "python",
   "pygments_lexer": "ipython3",
   "version": "3.8.3"
  },
  "toc-autonumbering": false,
  "toc-showcode": false,
  "toc-showmarkdowntxt": false,
  "toc-showtags": false
 },
 "nbformat": 4,
 "nbformat_minor": 5
}
