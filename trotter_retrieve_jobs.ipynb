{
 "cells": [
  {
   "cell_type": "markdown",
   "id": "b66fbd57",
   "metadata": {},
   "source": [
    "###### vx - retrieve hardware execution\n",
    "\n",
    "___________________\n",
    "___________________\n",
    "___________________"
   ]
  },
  {
   "cell_type": "code",
   "execution_count": 1,
   "id": "265dc0ca",
   "metadata": {
    "ExecuteTime": {
     "end_time": "2022-04-02T19:05:37.661361Z",
     "start_time": "2022-04-02T19:05:33.303999Z"
    }
   },
   "outputs": [],
   "source": [
    "%load_ext autoreload\n",
    "%autoreload 2\n",
    "\n",
    "from troter_utils import *"
   ]
  },
  {
   "cell_type": "markdown",
   "id": "46e185ad",
   "metadata": {},
   "source": [
    "### Quantum Devices\n"
   ]
  },
  {
   "cell_type": "code",
   "execution_count": 2,
   "id": "56449882",
   "metadata": {
    "ExecuteTime": {
     "end_time": "2022-04-02T19:05:46.974903Z",
     "start_time": "2022-04-02T19:05:37.661361Z"
    }
   },
   "outputs": [],
   "source": [
    "# load IBMQ Account data\n",
    "provider = IBMQ.load_account()\n",
    "\n",
    "# Get backend for experiment\n",
    "provider = IBMQ.get_provider(hub='ibm-q-community', group='ibmquantumawards', project='open-science-22')\n",
    "jakarta = provider.get_backend('ibmq_jakarta')\n",
    "\n",
    "# Simulated backend based on ibmq_jakarta's device noise profile\n",
    "sim_noisy_jakarta = QasmSimulator.from_backend(provider.get_backend('ibmq_jakarta'))\n",
    "\n",
    "# Noiseless simulated backend\n",
    "sim_no_noise = QasmSimulator()"
   ]
  },
  {
   "cell_type": "markdown",
   "id": "c0aeede0",
   "metadata": {},
   "source": [
    "____________"
   ]
  },
  {
   "cell_type": "markdown",
   "id": "1b1159c0",
   "metadata": {},
   "source": [
    "## Retrieve hardware execution with:"
   ]
  },
  {
   "cell_type": "code",
   "execution_count": 3,
   "id": "b55e8417",
   "metadata": {},
   "outputs": [],
   "source": [
    "#try\n",
    "order = 1\n",
    "STEPS = 4\n",
    "min_t = 0.01"
   ]
  },
  {
   "cell_type": "code",
   "execution_count": 4,
   "id": "8677641a",
   "metadata": {},
   "outputs": [],
   "source": [
    "# Completed jobs ID\n",
    "jbsIDs= ['6249edcee978c730fdfb209e',\n",
    "         '6249edd69962254bbb8bb657',\n",
    "         '6249eddbf9156f2336cc034d',\n",
    "         '6249eddf996225012a8bb658',\n",
    "         '6249ede3133bfd15d95ac10a',\n",
    "         '6249ede8be9f6036807719b6',\n",
    "         '6249edec7130e1a7e35b2e54',\n",
    "         '6249edef99622589258bb659']\n"
   ]
  },
  {
   "cell_type": "code",
   "execution_count": 5,
   "id": "5e4fad5d",
   "metadata": {},
   "outputs": [
    {
     "name": "stdout",
     "output_type": "stream",
     "text": [
      "6249edcee978c730fdfb209e LOADED!\n",
      "6249edd69962254bbb8bb657 LOADED!\n",
      "6249eddbf9156f2336cc034d LOADED!\n",
      "6249eddf996225012a8bb658 LOADED!\n",
      "6249ede3133bfd15d95ac10a LOADED!\n",
      "6249ede8be9f6036807719b6 LOADED!\n",
      "6249edec7130e1a7e35b2e54 LOADED!\n",
      "6249edef99622589258bb659 LOADED!\n"
     ]
    }
   ],
   "source": [
    "jobsd = {}\n",
    "for c,jbid in enumerate(jbsIDs):\n",
    "    jobsd[c] = jakarta.retrieve_job(jbid)\n",
    "    print(jbid,'LOADED!')"
   ]
  },
  {
   "cell_type": "code",
   "execution_count": 7,
   "id": "768338c0",
   "metadata": {},
   "outputs": [],
   "source": [
    "best_params = [0.01,  1.56,  0.01,  1.562]\n",
    "st_qcs      = state_tomagraphy_circs(order, STEPS, uniform_times=False, steps_times=best_params)"
   ]
  },
  {
   "cell_type": "code",
   "execution_count": 10,
   "id": "3bd2aef1",
   "metadata": {},
   "outputs": [
    {
     "name": "stdout",
     "output_type": "stream",
     "text": [
      "0 DONE\n",
      "1 DONE\n",
      "2 DONE\n",
      "3 DONE\n",
      "4 DONE\n",
      "5 DONE\n",
      "6 DONE\n",
      "7 DONE\n"
     ]
    }
   ],
   "source": [
    "# Compute tomography fidelities for each repetition\n",
    "fids = []\n",
    "\n",
    "for k in jobsd:\n",
    "    fid = state_tomo(jobsd[k].result(), st_qcs)\n",
    "    fids.append(fid)\n",
    "    print(k,'DONE')"
   ]
  },
  {
   "cell_type": "code",
   "execution_count": 11,
   "id": "1c584cb2",
   "metadata": {},
   "outputs": [
    {
     "data": {
      "text/plain": [
       "[0.2071066452536354,\n",
       " 0.20798413165329585,\n",
       " 0.20981964638226672,\n",
       " 0.20325432772496227,\n",
       " 0.20882602038969406,\n",
       " 0.20258631343542355,\n",
       " 0.1972393408848579,\n",
       " 0.20566002750692328]"
      ]
     },
     "execution_count": 11,
     "metadata": {},
     "output_type": "execute_result"
    }
   ],
   "source": [
    "fids"
   ]
  },
  {
   "cell_type": "code",
   "execution_count": 12,
   "id": "c2f81f04",
   "metadata": {},
   "outputs": [
    {
     "name": "stdout",
     "output_type": "stream",
     "text": [
      "State tomography fidelity = 0.2053 ± 0.0039\n"
     ]
    }
   ],
   "source": [
    "print('State tomography fidelity = {:.4f} \\u00B1 {:.4f}'.format(np.mean(fids), np.std(fids)))"
   ]
  },
  {
   "cell_type": "code",
   "execution_count": null,
   "id": "7a9b3f50",
   "metadata": {},
   "outputs": [],
   "source": []
  }
 ],
 "metadata": {
  "kernelspec": {
   "display_name": "Python 3 (ipykernel)",
   "language": "python",
   "name": "python3"
  },
  "language_info": {
   "codemirror_mode": {
    "name": "ipython",
    "version": 3
   },
   "file_extension": ".py",
   "mimetype": "text/x-python",
   "name": "python",
   "nbconvert_exporter": "python",
   "pygments_lexer": "ipython3",
   "version": "3.8.11"
  },
  "toc-autonumbering": false,
  "toc-showcode": false,
  "toc-showmarkdowntxt": false,
  "toc-showtags": false
 },
 "nbformat": 4,
 "nbformat_minor": 5
}
