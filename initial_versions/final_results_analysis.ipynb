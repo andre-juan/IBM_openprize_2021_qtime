{
 "cells": [
  {
   "cell_type": "markdown",
   "metadata": {},
   "source": [
    "# Final results analysis - simulation vs hardware\n",
    "\n",
    "___________________\n",
    "___________________\n",
    "___________________"
   ]
  },
  {
   "cell_type": "code",
   "execution_count": 1,
   "metadata": {
    "ExecuteTime": {
     "end_time": "2022-04-14T17:19:33.206015Z",
     "start_time": "2022-04-14T17:19:27.872643Z"
    }
   },
   "outputs": [],
   "source": [
    "%load_ext autoreload\n",
    "%autoreload 2\n",
    "\n",
    "from troter_utils import *"
   ]
  },
  {
   "cell_type": "markdown",
   "metadata": {},
   "source": [
    "### Quantum Devices\n"
   ]
  },
  {
   "cell_type": "code",
   "execution_count": 2,
   "metadata": {
    "ExecuteTime": {
     "end_time": "2022-04-14T17:19:42.938811Z",
     "start_time": "2022-04-14T17:19:33.206015Z"
    }
   },
   "outputs": [],
   "source": [
    "provider = IBMQ.load_account()\n",
    "\n",
    "provider = IBMQ.get_provider(hub='ibm-q-community', group='ibmquantumawards', project='open-science-22')\n",
    "jakarta = provider.get_backend('ibmq_jakarta')\n",
    "\n",
    "sim_noisy_jakarta = QasmSimulator.from_backend(provider.get_backend('ibmq_jakarta'))\n",
    "\n",
    "sim_no_noise = QasmSimulator()"
   ]
  },
  {
   "cell_type": "markdown",
   "metadata": {},
   "source": [
    "____________"
   ]
  },
  {
   "cell_type": "markdown",
   "metadata": {},
   "source": [
    "## Retrieve jobs"
   ]
  },
  {
   "cell_type": "code",
   "execution_count": 3,
   "metadata": {
    "ExecuteTime": {
     "end_time": "2022-04-14T17:19:43.159526Z",
     "start_time": "2022-04-14T17:19:42.938811Z"
    }
   },
   "outputs": [],
   "source": [
    "with open('results/dict_jobs_ids_first_order_2022-04-08.pkl', 'rb') as f:\n",
    "    jobs_dict_1st_order_ids = pickle.load(f)\n",
    "    \n",
    "with open('results/dict_jobs_ids_second_order_2022-04-06.pkl', 'rb') as f:\n",
    "    jobs_dict_2nd_order_ids = pickle.load(f)"
   ]
  },
  {
   "cell_type": "code",
   "execution_count": 4,
   "metadata": {
    "ExecuteTime": {
     "end_time": "2022-04-14T17:29:51.957004Z",
     "start_time": "2022-04-14T17:19:43.163526Z"
    },
    "scrolled": true
   },
   "outputs": [
    {
     "name": "stdout",
     "output_type": "stream",
     "text": [
      "\n",
      "Type of circuit: order_1_4_steps_tmin_0.001\n",
      "\n",
      "Status of group of jobs (should be only 'COMPLETED'): {'COMPLETED'}\n",
      "\n",
      "ID job 1: 6250b2e9fdf3773fcb5700da\n",
      "ID job 2: 6250b2f2fdf37739915700db\n",
      "ID job 3: 6250b2fd182d02a6a04c38bd\n",
      "ID job 4: 6250b306a5d4ee803377dbd6\n",
      "ID job 5: 6250b30d4b5152b89f7c79ca\n",
      "ID job 6: 6250b3144b515250a87c79cc\n",
      "ID job 7: 6250b31bcfe45cfc8ee5b1cb\n",
      "ID job 8: 6250b3225ab79b36f0f960d5\n",
      "\n",
      "Final results for jobs above\n",
      "\n",
      "State tomography fidelity = 0.3236 ± 0.0556\n",
      "\n",
      "Distribution of state tomo fidelities:\n"
     ]
    },
    {
     "data": {
      "text/plain": [
       "count    8.000000\n",
       "mean     0.323645\n",
       "std      0.059458\n",
       "min      0.238669\n",
       "25%      0.280144\n",
       "50%      0.337569\n",
       "75%      0.374322\n",
       "max      0.387080\n",
       "Name: fids, dtype: float64"
      ]
     },
     "metadata": {},
     "output_type": "display_data"
    },
    {
     "name": "stdout",
     "output_type": "stream",
     "text": [
      "\n",
      "================================================================================\n",
      "\n",
      "Type of circuit: order_1_4_steps_tmin_0.0005\n",
      "\n",
      "Status of group of jobs (should be only 'COMPLETED'): {'COMPLETED'}\n",
      "\n",
      "ID job 1: 6250b32acaa2652f65f1a8f5\n",
      "ID job 2: 6250b331f65d788358391169\n",
      "ID job 3: 6250b338cfe45cb6e2e5b1cc\n",
      "ID job 4: 6250b33fa5d4ee1df277dbd9\n",
      "ID job 5: 6250b347fdf377af5c5700dd\n",
      "ID job 6: 6250b34ed72033230467e6f7\n",
      "ID job 7: 6250b354a5d4eeab7f77dbda\n",
      "ID job 8: 6250b35ba5d4ee29f277dbdb\n",
      "\n",
      "Final results for jobs above\n",
      "\n",
      "State tomography fidelity = 0.3098 ± 0.0405\n",
      "\n",
      "Distribution of state tomo fidelities:\n"
     ]
    },
    {
     "data": {
      "text/plain": [
       "count    8.000000\n",
       "mean     0.309772\n",
       "std      0.043329\n",
       "min      0.235464\n",
       "25%      0.295936\n",
       "50%      0.328239\n",
       "75%      0.337938\n",
       "max      0.348523\n",
       "Name: fids, dtype: float64"
      ]
     },
     "metadata": {},
     "output_type": "display_data"
    },
    {
     "name": "stdout",
     "output_type": "stream",
     "text": [
      "\n",
      "================================================================================\n",
      "\n",
      "Type of circuit: order_1_5_steps_tmin_0.001\n",
      "\n",
      "Status of group of jobs (should be only 'COMPLETED'): {'COMPLETED'}\n",
      "\n",
      "ID job 1: 6250b363a5d4ee4c2d77dbdc\n",
      "ID job 2: 6250b36bd720332e6367e6f9\n",
      "ID job 3: 6250b373f65d78b3f439116c\n",
      "ID job 4: 6250b37bfdf37706a45700df\n",
      "ID job 5: 6250b38473968cf0d907c132\n",
      "ID job 6: 6250b38bcaa26514c4f1a8f8\n",
      "ID job 7: 6250b393cfe45cea78e5b1cf\n",
      "ID job 8: 6250b39bfdf377352b5700e1\n",
      "\n",
      "Final results for jobs above\n",
      "\n",
      "State tomography fidelity = 0.2834 ± 0.0127\n",
      "\n",
      "Distribution of state tomo fidelities:\n"
     ]
    },
    {
     "data": {
      "text/plain": [
       "count    8.000000\n",
       "mean     0.283416\n",
       "std      0.013606\n",
       "min      0.266104\n",
       "25%      0.275523\n",
       "50%      0.281816\n",
       "75%      0.286634\n",
       "max      0.309767\n",
       "Name: fids, dtype: float64"
      ]
     },
     "metadata": {},
     "output_type": "display_data"
    },
    {
     "name": "stdout",
     "output_type": "stream",
     "text": [
      "\n",
      "================================================================================\n",
      "\n",
      "Type of circuit: order_1_5_steps_tmin_0.0005\n",
      "\n",
      "Status of group of jobs (should be only 'COMPLETED'): {'COMPLETED'}\n",
      "\n",
      "ID job 1: 6250b3a4fdf377a2ae5700e3\n",
      "ID job 2: 6250b3acf65d78476339116d\n",
      "ID job 3: 6250b3b3cfe45c26cee5b1d0\n",
      "ID job 4: 6250b3bc5ab79b8356f960dc\n",
      "ID job 5: 6250b3c4f65d78847739116e\n",
      "ID job 6: 6250b3cd73968cdce107c133\n",
      "ID job 7: 6250b3d4182d0286074c38c1\n",
      "ID job 8: 6250b3dccfe45cb4a3e5b1d1\n",
      "\n",
      "Final results for jobs above\n",
      "\n",
      "State tomography fidelity = 0.2864 ± 0.0657\n",
      "\n",
      "Distribution of state tomo fidelities:\n"
     ]
    },
    {
     "data": {
      "text/plain": [
       "count    8.000000\n",
       "mean     0.286357\n",
       "std      0.070240\n",
       "min      0.189256\n",
       "25%      0.230183\n",
       "50%      0.306936\n",
       "75%      0.343388\n",
       "max      0.362075\n",
       "Name: fids, dtype: float64"
      ]
     },
     "metadata": {},
     "output_type": "display_data"
    },
    {
     "name": "stdout",
     "output_type": "stream",
     "text": [
      "\n",
      "================================================================================\n",
      "\n",
      "Type of circuit: order_1_6_steps_tmin_0.001\n",
      "\n",
      "Status of group of jobs (should be only 'COMPLETED'): {'COMPLETED'}\n",
      "\n",
      "ID job 1: 6250b3e5cfe45c3467e5b1d2\n",
      "ID job 2: 6250b3edd72033311367e6fd\n",
      "ID job 3: 6250b3f6d72033274e67e6fe\n",
      "ID job 4: 6250b3ffcfe45c4cb1e5b1d4\n",
      "ID job 5: 6250b40a4b51523e7f7c79d6\n",
      "ID job 6: 6250b4144b515220cf7c79d7\n",
      "ID job 7: 6250b41e5ab79b63c4f960de\n",
      "ID job 8: 6250b4284b515204187c79d9\n",
      "\n",
      "Final results for jobs above\n",
      "\n",
      "State tomography fidelity = 0.2098 ± 0.0285\n",
      "\n",
      "Distribution of state tomo fidelities:\n"
     ]
    },
    {
     "data": {
      "text/plain": [
       "count    8.000000\n",
       "mean     0.209766\n",
       "std      0.030477\n",
       "min      0.142025\n",
       "25%      0.210865\n",
       "50%      0.220353\n",
       "75%      0.227230\n",
       "max      0.233393\n",
       "Name: fids, dtype: float64"
      ]
     },
     "metadata": {},
     "output_type": "display_data"
    },
    {
     "name": "stdout",
     "output_type": "stream",
     "text": [
      "\n",
      "================================================================================\n",
      "\n",
      "Type of circuit: order_1_6_steps_tmin_0.0005\n",
      "\n",
      "Status of group of jobs (should be only 'COMPLETED'): {'COMPLETED'}\n",
      "\n",
      "ID job 1: 6250b433d72033c32667e6ff\n",
      "ID job 2: 6250b43fd72033c84167e701\n",
      "ID job 3: 6250b45673968c97e707c136\n",
      "ID job 4: 6250b46973968c6a2b07c137\n",
      "ID job 5: 6250b47dfdf37750ec5700e7\n",
      "ID job 6: 6250b493f65d78732f391173\n",
      "ID job 7: 6250b4a64b5152788b7c79de\n",
      "ID job 8: 6250b4baa5d4ee44d677dbe7\n",
      "\n",
      "Final results for jobs above\n",
      "\n",
      "State tomography fidelity = 0.2226 ± 0.0079\n",
      "\n",
      "Distribution of state tomo fidelities:\n"
     ]
    },
    {
     "data": {
      "text/plain": [
       "count    8.000000\n",
       "mean     0.222626\n",
       "std      0.008463\n",
       "min      0.206852\n",
       "25%      0.219206\n",
       "50%      0.222465\n",
       "75%      0.227876\n",
       "max      0.233127\n",
       "Name: fids, dtype: float64"
      ]
     },
     "metadata": {},
     "output_type": "display_data"
    },
    {
     "name": "stdout",
     "output_type": "stream",
     "text": [
      "\n",
      "================================================================================\n",
      "\n",
      "Type of circuit: order_1_7_steps_tmin_0.0005\n",
      "\n",
      "Status of group of jobs (should be only 'COMPLETED'): {'COMPLETED'}\n",
      "\n",
      "ID job 1: 6250b4cefdf377120d5700e8\n",
      "ID job 2: 6250b4e2f65d78c1d2391179\n",
      "ID job 3: 6250b4f6182d02739e4c38c9\n",
      "ID job 4: 6250b50acfe45ccae6e5b1da\n",
      "ID job 5: 6250b51ccfe45c8484e5b1db\n",
      "ID job 6: 6250b5305ab79b98b5f960e4\n",
      "ID job 7: 6250b543caa265289ff1a906\n",
      "ID job 8: 6250b5574b51521b407c79e2\n",
      "\n",
      "Final results for jobs above\n",
      "\n",
      "State tomography fidelity = 0.1737 ± 0.0122\n",
      "\n",
      "Distribution of state tomo fidelities:\n"
     ]
    },
    {
     "data": {
      "text/plain": [
       "count    8.000000\n",
       "mean     0.173693\n",
       "std      0.013037\n",
       "min      0.150174\n",
       "25%      0.166807\n",
       "50%      0.176676\n",
       "75%      0.184153\n",
       "max      0.187295\n",
       "Name: fids, dtype: float64"
      ]
     },
     "metadata": {},
     "output_type": "display_data"
    },
    {
     "name": "stdout",
     "output_type": "stream",
     "text": [
      "\n",
      "================================================================================\n",
      "\n",
      "Type of circuit: order_1_7_steps_tmin_0.001\n",
      "\n",
      "Status of group of jobs (should be only 'COMPLETED'): {'COMPLETED'}\n",
      "\n",
      "ID job 1: 6250b56b182d0258b44c38cb\n",
      "ID job 2: 6250b57e5ab79b57e0f960e7\n",
      "ID job 3: 6250b594a5d4ee3f6d77dbed\n",
      "ID job 4: 6250b5a74b515216c57c79e6\n",
      "ID job 5: 6250b5ba4b515205857c79e7\n",
      "ID job 6: 6250b5cffdf3778e2e5700f4\n",
      "ID job 7: 6250b5e273968cce1607c147\n",
      "ID job 8: 6250b5f5a5d4ee4a4277dbf0\n",
      "\n",
      "Final results for jobs above\n",
      "\n",
      "State tomography fidelity = 0.1224 ± 0.0194\n",
      "\n",
      "Distribution of state tomo fidelities:\n"
     ]
    },
    {
     "data": {
      "text/plain": [
       "count    8.000000\n",
       "mean     0.122442\n",
       "std      0.020740\n",
       "min      0.102194\n",
       "25%      0.105386\n",
       "50%      0.120009\n",
       "75%      0.130491\n",
       "max      0.163575\n",
       "Name: fids, dtype: float64"
      ]
     },
     "metadata": {},
     "output_type": "display_data"
    },
    {
     "name": "stdout",
     "output_type": "stream",
     "text": [
      "\n",
      "================================================================================\n",
      "\n",
      "Type of circuit: order_1_8_steps_tmin_0.0005\n",
      "\n",
      "Status of group of jobs (should be only 'COMPLETED'): {'COMPLETED'}\n",
      "\n",
      "ID job 1: 6250b60a182d0214304c38d4\n",
      "ID job 2: 6250b62073968c1dda07c14a\n",
      "ID job 3: 6250b63773968c15f007c14d\n",
      "ID job 4: 6250b64c182d02f6674c38d6\n",
      "ID job 5: 6250b661a5d4eee82177dbf2\n",
      "ID job 6: 6250b675f65d788cd339118d\n",
      "ID job 7: 6250b68ad720336c7d67e71a\n",
      "ID job 8: 6250b69fa5d4ee5bc277dbf5\n",
      "\n",
      "Final results for jobs above\n",
      "\n",
      "State tomography fidelity = 0.1398 ± 0.0031\n",
      "\n",
      "Distribution of state tomo fidelities:\n"
     ]
    },
    {
     "data": {
      "text/plain": [
       "count    8.000000\n",
       "mean     0.139791\n",
       "std      0.003363\n",
       "min      0.133799\n",
       "25%      0.138605\n",
       "50%      0.139145\n",
       "75%      0.141787\n",
       "max      0.144154\n",
       "Name: fids, dtype: float64"
      ]
     },
     "metadata": {},
     "output_type": "display_data"
    },
    {
     "name": "stdout",
     "output_type": "stream",
     "text": [
      "\n",
      "================================================================================\n",
      "\n",
      "Type of circuit: order_1_8_steps_tmin_0.001\n",
      "\n",
      "Status of group of jobs (should be only 'COMPLETED'): {'COMPLETED'}\n",
      "\n",
      "ID job 1: 6250b6b4182d0219a74c38db\n",
      "ID job 2: 6250b6c9fdf37730b05700fa\n",
      "ID job 3: 6250b6decfe45c3987e5b1ed\n",
      "ID job 4: 6250b6fccaa2657b0bf1a917\n",
      "ID job 5: 6250b711a5d4eebd3977dbfa\n",
      "ID job 6: 6250b7274b5152dc627c79f0\n",
      "ID job 7: 6250b73dcaa265d0c1f1a919\n",
      "ID job 8: 6250b753d7203345fc67e71d\n",
      "\n",
      "Final results for jobs above\n",
      "\n",
      "State tomography fidelity = 0.1348 ± 0.0068\n",
      "\n",
      "Distribution of state tomo fidelities:\n"
     ]
    },
    {
     "data": {
      "text/plain": [
       "count    8.000000\n",
       "mean     0.134752\n",
       "std      0.007229\n",
       "min      0.126728\n",
       "25%      0.130412\n",
       "50%      0.133664\n",
       "75%      0.136268\n",
       "max      0.148656\n",
       "Name: fids, dtype: float64"
      ]
     },
     "metadata": {},
     "output_type": "display_data"
    },
    {
     "name": "stdout",
     "output_type": "stream",
     "text": [
      "\n",
      "================================================================================\n"
     ]
    }
   ],
   "source": [
    "results_hardware_1st_order = {'order' : [], \n",
    "                              'n_steps' : [], \n",
    "                              't_min' : [], \n",
    "                              'state_tomo_fids_hardware' : [],\n",
    "                              'mean_fid_hardware' : [],\n",
    "                              'std_fid_hardware' : []}\n",
    "\n",
    "\n",
    "for kind, jobs_ids in jobs_dict_1st_order_ids.items():\n",
    "    \n",
    "    print(f\"\\nType of circuit: {kind}\")\n",
    "    \n",
    "    jobs = [jakarta.retrieve_job(job_id) for job_id in jobs_ids]\n",
    "    \n",
    "    status = [job._api_status for job in jobs]\n",
    "    \n",
    "    print(f\"\\nStatus of group of jobs (should be only 'COMPLETED'): {set(status)}\\n\")\n",
    "    \n",
    "    print(*[f\"ID job {i+1}: {x._job_id}\" for i, x in enumerate(jobs)], sep=\"\\n\")\n",
    "\n",
    "    fids, fids_mean, fids_std = final_fidelities_retrieved(jobs)\n",
    "    \n",
    "    print()\n",
    "    print(\"=\"*80)\n",
    "    \n",
    "    # ============================================\n",
    "    \n",
    "    order = int(kind.split(\"_\")[1])\n",
    "    steps = int(kind.split(\"_\")[2])\n",
    "    t_min = float(kind.split(\"_\")[-1])\n",
    "    \n",
    "    results_hardware_1st_order[\"order\"].append(order)\n",
    "    results_hardware_1st_order[\"n_steps\"].append(steps)\n",
    "    results_hardware_1st_order[\"t_min\"].append(t_min)\n",
    "    results_hardware_1st_order[\"state_tomo_fids_hardware\"].append(fids)\n",
    "    results_hardware_1st_order[\"mean_fid_hardware\"].append(fids_mean)\n",
    "    results_hardware_1st_order[\"std_fid_hardware\"].append(fids_std)\n",
    "    \n",
    "df_results_hardware_1st_order = pd.DataFrame(results_hardware_1st_order)"
   ]
  },
  {
   "cell_type": "code",
   "execution_count": 5,
   "metadata": {
    "ExecuteTime": {
     "end_time": "2022-04-14T17:41:48.892211Z",
     "start_time": "2022-04-14T17:29:51.957004Z"
    }
   },
   "outputs": [
    {
     "name": "stdout",
     "output_type": "stream",
     "text": [
      "\n",
      "Type of circuit: order_2_4_steps_tmin_0.01\n",
      "\n",
      "Status of group of jobs (should be only 'COMPLETED'): {'COMPLETED'}\n",
      "\n",
      "ID job 1: 6250b765182d02e6b44c38de\n",
      "ID job 2: 6250b7754b515214df7c79f5\n",
      "ID job 3: 6250b786cfe45cf161e5b1f2\n",
      "ID job 4: 6250b796f65d78b068391194\n",
      "ID job 5: 6250b7a8fdf377eafa570101\n",
      "ID job 6: 6250b7baf65d7883a6391197\n",
      "ID job 7: 6250b7cbfdf37702cb570102\n",
      "ID job 8: 6250b7dcf65d78675d391199\n",
      "\n",
      "Final results for jobs above\n",
      "\n",
      "State tomography fidelity = 0.1756 ± 0.0040\n",
      "\n",
      "Distribution of state tomo fidelities:\n"
     ]
    },
    {
     "data": {
      "text/plain": [
       "count    8.000000\n",
       "mean     0.175617\n",
       "std      0.004271\n",
       "min      0.169958\n",
       "25%      0.172698\n",
       "50%      0.175272\n",
       "75%      0.177525\n",
       "max      0.183841\n",
       "Name: fids, dtype: float64"
      ]
     },
     "metadata": {},
     "output_type": "display_data"
    },
    {
     "name": "stdout",
     "output_type": "stream",
     "text": [
      "\n",
      "================================================================================\n",
      "\n",
      "Type of circuit: order_2_4_steps_tmin_0.1\n",
      "\n",
      "Status of group of jobs (should be only 'COMPLETED'): {'COMPLETED'}\n",
      "\n",
      "ID job 1: 6250b7ed73968c305007c153\n",
      "ID job 2: 6250b7fe182d02c9df4c38e0\n",
      "ID job 3: 6250b80ff65d786acf39119d\n",
      "ID job 4: 6250b81ff65d78820c39119e\n",
      "ID job 5: 6250b832caa26503b2f1a91b\n",
      "ID job 6: 6250b8435ab79b55d0f960f9\n",
      "ID job 7: 6250b85dfdf377d6b5570103\n",
      "ID job 8: 6250b875caa2658278f1a91e\n",
      "\n",
      "Final results for jobs above\n",
      "\n",
      "State tomography fidelity = 0.1554 ± 0.0115\n",
      "\n",
      "Distribution of state tomo fidelities:\n"
     ]
    },
    {
     "data": {
      "text/plain": [
       "count    8.000000\n",
       "mean     0.155394\n",
       "std      0.012328\n",
       "min      0.143152\n",
       "25%      0.147914\n",
       "50%      0.152218\n",
       "75%      0.158234\n",
       "max      0.178552\n",
       "Name: fids, dtype: float64"
      ]
     },
     "metadata": {},
     "output_type": "display_data"
    },
    {
     "name": "stdout",
     "output_type": "stream",
     "text": [
      "\n",
      "================================================================================\n",
      "\n",
      "Type of circuit: order_2_5_steps_tmin_0.1\n",
      "\n",
      "Status of group of jobs (should be only 'COMPLETED'): {'COMPLETED'}\n",
      "\n",
      "ID job 1: 6250b88ad7203359d267e724\n",
      "ID job 2: 6250b8a0fdf3774f00570107\n",
      "ID job 3: 6250b8b6cfe45ccf85e5b1f5\n",
      "ID job 4: 6250b8cb4b5152547c7c79f9\n",
      "ID job 5: 6250b8ddfdf3773a6f57010b\n",
      "ID job 6: 6250b8f2d72033921167e727\n",
      "ID job 7: 6250b907a5d4ee68ee77dc03\n",
      "ID job 8: 6250b91bf65d786b3139119f\n",
      "\n",
      "Final results for jobs above\n",
      "\n",
      "State tomography fidelity = 0.1063 ± 0.0016\n",
      "\n",
      "Distribution of state tomo fidelities:\n"
     ]
    },
    {
     "data": {
      "text/plain": [
       "count    8.000000\n",
       "mean     0.106302\n",
       "std      0.001706\n",
       "min      0.103020\n",
       "25%      0.106222\n",
       "50%      0.106989\n",
       "75%      0.107257\n",
       "max      0.107766\n",
       "Name: fids, dtype: float64"
      ]
     },
     "metadata": {},
     "output_type": "display_data"
    },
    {
     "name": "stdout",
     "output_type": "stream",
     "text": [
      "\n",
      "================================================================================\n",
      "\n",
      "Type of circuit: order_2_5_steps_tmin_0.01\n",
      "\n",
      "Status of group of jobs (should be only 'COMPLETED'): {'COMPLETED'}\n",
      "\n",
      "ID job 1: 6250b931fdf377000a57010e\n",
      "ID job 2: 6250b944f65d783e003911a0\n",
      "ID job 3: 6250b959fdf377fc75570112\n",
      "ID job 4: 6250b96ccfe45c0beee5b1fb\n",
      "ID job 5: 6250b9814b515279667c79fe\n",
      "ID job 6: 6250b996d7203320e167e72b\n",
      "ID job 7: 6250b9aba5d4ee1ca577dc09\n",
      "ID job 8: 6250b9bf73968cef6807c15e\n",
      "\n",
      "Final results for jobs above\n",
      "\n",
      "State tomography fidelity = 0.1322 ± 0.0031\n",
      "\n",
      "Distribution of state tomo fidelities:\n"
     ]
    },
    {
     "data": {
      "text/plain": [
       "count    8.000000\n",
       "mean     0.132190\n",
       "std      0.003338\n",
       "min      0.125843\n",
       "25%      0.131041\n",
       "50%      0.132856\n",
       "75%      0.134259\n",
       "max      0.136316\n",
       "Name: fids, dtype: float64"
      ]
     },
     "metadata": {},
     "output_type": "display_data"
    },
    {
     "name": "stdout",
     "output_type": "stream",
     "text": [
      "\n",
      "================================================================================\n",
      "\n",
      "Type of circuit: order_2_6_steps_tmin_0.01\n",
      "\n",
      "Status of group of jobs (should be only 'COMPLETED'): {'COMPLETED'}\n",
      "\n",
      "ID job 1: 6250b9d8cfe45c7391e5b1fc\n",
      "ID job 2: 6250b9ef73968cad7f07c15f\n",
      "ID job 3: 6250ba08a5d4eeea6977dc0e\n",
      "ID job 4: 6250ba1e73968c6aac07c162\n",
      "ID job 5: 6250ba335ab79b7585f96102\n",
      "ID job 6: 6250ba4b182d0269324c38f0\n",
      "ID job 7: 6250ba62a5d4ee609877dc0f\n",
      "ID job 8: 6250ba7acfe45c918ee5b1fe\n",
      "\n",
      "Final results for jobs above\n",
      "\n",
      "State tomography fidelity = 0.0952 ± 0.0040\n",
      "\n",
      "Distribution of state tomo fidelities:\n"
     ]
    },
    {
     "data": {
      "text/plain": [
       "count    8.000000\n",
       "mean     0.095176\n",
       "std      0.004309\n",
       "min      0.090470\n",
       "25%      0.091509\n",
       "50%      0.095140\n",
       "75%      0.096829\n",
       "max      0.103087\n",
       "Name: fids, dtype: float64"
      ]
     },
     "metadata": {},
     "output_type": "display_data"
    },
    {
     "name": "stdout",
     "output_type": "stream",
     "text": [
      "\n",
      "================================================================================\n",
      "\n",
      "Type of circuit: order_2_7_steps_tmin_0.01\n",
      "\n",
      "Status of group of jobs (should be only 'COMPLETED'): {'COMPLETED'}\n",
      "\n",
      "ID job 1: 6250ba945ab79b1d88f96104\n",
      "ID job 2: 6250baafa5d4ee56b277dc11\n",
      "ID job 3: 6250bacaa5d4ee2bbb77dc13\n",
      "ID job 4: 6250bae6caa2652508f1a92b\n",
      "ID job 5: 6250bb015ab79b8ebff96105\n",
      "ID job 6: 6250bb1acaa26507a9f1a92e\n",
      "ID job 7: 6250bb36d72033365067e73c\n",
      "ID job 8: 6250bb50caa2654114f1a931\n",
      "\n",
      "Final results for jobs above\n",
      "\n",
      "State tomography fidelity = 0.1256 ± 0.0058\n",
      "\n",
      "Distribution of state tomo fidelities:\n"
     ]
    },
    {
     "data": {
      "text/plain": [
       "count    8.000000\n",
       "mean     0.125643\n",
       "std      0.006201\n",
       "min      0.112172\n",
       "25%      0.124886\n",
       "50%      0.126818\n",
       "75%      0.129657\n",
       "max      0.131888\n",
       "Name: fids, dtype: float64"
      ]
     },
     "metadata": {},
     "output_type": "display_data"
    },
    {
     "name": "stdout",
     "output_type": "stream",
     "text": [
      "\n",
      "================================================================================\n",
      "\n",
      "Type of circuit: order_2_8_steps_tmin_0.01\n",
      "\n",
      "Status of group of jobs (should be only 'COMPLETED'): {'COMPLETED'}\n",
      "\n",
      "ID job 1: 6250bb71d72033124e67e73d\n",
      "ID job 2: 6250bb8da5d4ee377b77dc17\n",
      "ID job 3: 6250bbadf65d7847be3911b4\n",
      "ID job 4: 6250bbc94b5152a92b7c7a0b\n",
      "ID job 5: 6250bbe873968c7ec007c16e\n",
      "ID job 6: 6250bc09182d02a64e4c38f4\n",
      "ID job 7: 6250bc26d72033ace567e741\n",
      "ID job 8: 6250bc44d72033b72a67e743\n",
      "\n",
      "Final results for jobs above\n",
      "\n",
      "State tomography fidelity = 0.1030 ± 0.0080\n",
      "\n",
      "Distribution of state tomo fidelities:\n"
     ]
    },
    {
     "data": {
      "text/plain": [
       "count    8.000000\n",
       "mean     0.102952\n",
       "std      0.008571\n",
       "min      0.096090\n",
       "25%      0.097764\n",
       "50%      0.099219\n",
       "75%      0.104238\n",
       "max      0.117309\n",
       "Name: fids, dtype: float64"
      ]
     },
     "metadata": {},
     "output_type": "display_data"
    },
    {
     "name": "stdout",
     "output_type": "stream",
     "text": [
      "\n",
      "================================================================================\n",
      "\n",
      "Type of circuit: order_2_7_steps_tmin_0.1\n",
      "\n",
      "Status of group of jobs (should be only 'COMPLETED'): {'COMPLETED'}\n",
      "\n",
      "ID job 1: 6250bc6073968c024907c172\n",
      "ID job 2: 6250bc7acaa265bb34f1a936\n",
      "ID job 3: 6250bc964b515227277c7a0e\n",
      "ID job 4: 6250bcb14b5152083e7c7a11\n",
      "ID job 5: 6250bccd5ab79b94b1f9610f\n",
      "ID job 6: 6250bce7caa2656f7df1a939\n",
      "ID job 7: 6250bd02cfe45c4cf8e5b20a\n",
      "ID job 8: 6250bd1ed72033af4767e749\n",
      "\n",
      "Final results for jobs above\n",
      "\n",
      "State tomography fidelity = 0.1247 ± 0.0054\n",
      "\n",
      "Distribution of state tomo fidelities:\n"
     ]
    },
    {
     "data": {
      "text/plain": [
       "count    8.000000\n",
       "mean     0.124692\n",
       "std      0.005728\n",
       "min      0.114243\n",
       "25%      0.123617\n",
       "50%      0.127060\n",
       "75%      0.128416\n",
       "max      0.129232\n",
       "Name: fids, dtype: float64"
      ]
     },
     "metadata": {},
     "output_type": "display_data"
    },
    {
     "name": "stdout",
     "output_type": "stream",
     "text": [
      "\n",
      "================================================================================\n",
      "\n",
      "Type of circuit: order_2_6_steps_tmin_0.1\n",
      "\n",
      "Status of group of jobs (should be only 'COMPLETED'): {'COMPLETED'}\n",
      "\n",
      "ID job 1: 6250bd3e73968c301707c17a\n",
      "ID job 2: 6250bd55cfe45c0946e5b20d\n",
      "ID job 3: 6250bd6ea5d4ee5dca77dc21\n",
      "ID job 4: 6250bd86caa2659d0bf1a941\n",
      "ID job 5: 6250bd9da5d4ee3ecd77dc23\n",
      "ID job 6: 6250bdb8d72033d24e67e74d\n",
      "ID job 7: 6250bdd1182d02117b4c38fb\n",
      "ID job 8: 6250bde8caa2652aeff1a946\n",
      "\n",
      "Final results for jobs above\n",
      "\n",
      "State tomography fidelity = 0.1199 ± 0.0021\n",
      "\n",
      "Distribution of state tomo fidelities:\n"
     ]
    },
    {
     "data": {
      "text/plain": [
       "count    8.000000\n",
       "mean     0.119922\n",
       "std      0.002264\n",
       "min      0.117169\n",
       "25%      0.117483\n",
       "50%      0.120519\n",
       "75%      0.121427\n",
       "max      0.122682\n",
       "Name: fids, dtype: float64"
      ]
     },
     "metadata": {},
     "output_type": "display_data"
    },
    {
     "name": "stdout",
     "output_type": "stream",
     "text": [
      "\n",
      "================================================================================\n",
      "\n",
      "Type of circuit: order_2_8_steps_tmin_0.1\n",
      "\n",
      "Status of group of jobs (should be only 'COMPLETED'): {'COMPLETED'}\n",
      "\n",
      "ID job 1: 6250be095ab79b905df9611c\n",
      "ID job 2: 6250be2cfdf377407957012c\n",
      "ID job 3: 6250be4a5ab79b1f04f9611e\n",
      "ID job 4: 6250be6ccaa2655944f1a94d\n",
      "ID job 5: 6250be8aa5d4ee43dc77dc2b\n",
      "ID job 6: 6250bea8a5d4eeb3d477dc2c\n",
      "ID job 7: 6250bec873968c66cf07c183\n",
      "ID job 8: 6250bee5d72033c76767e758\n",
      "\n",
      "Final results for jobs above\n",
      "\n",
      "State tomography fidelity = 0.1099 ± 0.0025\n",
      "\n",
      "Distribution of state tomo fidelities:\n"
     ]
    },
    {
     "data": {
      "text/plain": [
       "count    8.000000\n",
       "mean     0.109857\n",
       "std      0.002696\n",
       "min      0.104427\n",
       "25%      0.109234\n",
       "50%      0.110460\n",
       "75%      0.111047\n",
       "max      0.113577\n",
       "Name: fids, dtype: float64"
      ]
     },
     "metadata": {},
     "output_type": "display_data"
    },
    {
     "name": "stdout",
     "output_type": "stream",
     "text": [
      "\n",
      "================================================================================\n"
     ]
    }
   ],
   "source": [
    "results_hardware_2nd_order = {'order' : [], \n",
    "                              'n_steps' : [], \n",
    "                              't_min' : [], \n",
    "                              'state_tomo_fids_hardware' : [],\n",
    "                              'mean_fid_hardware' : [],\n",
    "                              'std_fid_hardware' : []}\n",
    "\n",
    "\n",
    "for kind, jobs_ids in jobs_dict_2nd_order_ids.items():\n",
    "    \n",
    "    print(f\"\\nType of circuit: {kind}\")\n",
    "    \n",
    "    jobs = [jakarta.retrieve_job(job_id) for job_id in jobs_ids]\n",
    "    \n",
    "    status = [job._api_status for job in jobs]\n",
    "    \n",
    "    print(f\"\\nStatus of group of jobs (should be only 'COMPLETED'): {set(status)}\\n\")\n",
    "    \n",
    "    print(*[f\"ID job {i+1}: {x._job_id}\" for i, x in enumerate(jobs)], sep=\"\\n\")\n",
    "\n",
    "    fids, fids_mean, fids_std = final_fidelities_retrieved(jobs)\n",
    "    \n",
    "    print()\n",
    "    print(\"=\"*80)\n",
    "    \n",
    "    # ============================================\n",
    "    \n",
    "    order = int(kind.split(\"_\")[1])\n",
    "    steps = int(kind.split(\"_\")[2])\n",
    "    t_min = float(kind.split(\"_\")[-1])\n",
    "    \n",
    "    results_hardware_2nd_order[\"order\"].append(order)\n",
    "    results_hardware_2nd_order[\"n_steps\"].append(steps)\n",
    "    results_hardware_2nd_order[\"t_min\"].append(t_min)\n",
    "    results_hardware_2nd_order[\"state_tomo_fids_hardware\"].append(fids)\n",
    "    results_hardware_2nd_order[\"mean_fid_hardware\"].append(fids_mean)\n",
    "    results_hardware_2nd_order[\"std_fid_hardware\"].append(fids_std)\n",
    "    \n",
    "df_results_hardware_2nd_order = pd.DataFrame(results_hardware_2nd_order)"
   ]
  },
  {
   "cell_type": "markdown",
   "metadata": {},
   "source": [
    "## Merging hardware and simulation results"
   ]
  },
  {
   "cell_type": "code",
   "execution_count": 6,
   "metadata": {
    "ExecuteTime": {
     "end_time": "2022-04-14T17:41:49.232507Z",
     "start_time": "2022-04-14T17:41:48.892211Z"
    }
   },
   "outputs": [],
   "source": [
    "df_results_simulator_1st_order = pd.read_parquet('./results/results_opt_first_order_2022-04-08.parquet')\n",
    "\n",
    "df_results_simulator_1st_order = df_results_simulator_1st_order.rename(columns={\"state_tomo_fids\" : \"state_tomo_fids_simulator\"})\n",
    "\n",
    "df_results_simulator_1st_order[\"mean_fid_simulator\"] = df_results_simulator_1st_order[\"state_tomo_fids_simulator\"].apply(lambda x: np.mean(x))\n",
    "df_results_simulator_1st_order[\"std_fid_simulator\"] = df_results_simulator_1st_order[\"state_tomo_fids_simulator\"].apply(lambda x: np.std(x))\n",
    "\n",
    "cols_order =  ['order', 'n_steps', 't_min',  \n",
    "              'fid_pi', 'best_params', \n",
    "              'state_tomo_fids_simulator','mean_fid_simulator', 'std_fid_simulator']\n",
    "\n",
    "df_results_simulator_1st_order = df_results_simulator_1st_order[cols_order].copy()\n",
    "\n",
    "# =========================================\n",
    "\n",
    "final_results_1st_order = (df_results_simulator_1st_order.merge(df_results_hardware_1st_order,\n",
    "                                                               on=\"order n_steps t_min\".split(),\n",
    "                                                               how=\"outer\")\n",
    "                                                         .sort_values(\"mean_fid_hardware\",\n",
    "                                                                      ascending=False))\n",
    "\n",
    "final_results_1st_order.to_parquet('results/final_results_first_order_2022-04-08.parquet')"
   ]
  },
  {
   "cell_type": "code",
   "execution_count": 7,
   "metadata": {
    "ExecuteTime": {
     "end_time": "2022-04-14T17:41:49.469396Z",
     "start_time": "2022-04-14T17:41:49.236506Z"
    }
   },
   "outputs": [],
   "source": [
    "df_results_simulator_2nd_order = pd.read_parquet('results/results_opt_second_order_2022-04-06.parquet')\n",
    "\n",
    "df_results_simulator_2nd_order = df_results_simulator_2nd_order.rename(columns={\"state_tomo_fids\" : \"state_tomo_fids_simulator\"})\n",
    "\n",
    "df_results_simulator_2nd_order[\"mean_fid_simulator\"] = df_results_simulator_2nd_order[\"state_tomo_fids_simulator\"].apply(lambda x: np.mean(x))\n",
    "df_results_simulator_2nd_order[\"std_fid_simulator\"] = df_results_simulator_2nd_order[\"state_tomo_fids_simulator\"].apply(lambda x: np.std(x))\n",
    "\n",
    "cols_order =  ['order', 'n_steps', 't_min',  \n",
    "              'fid_pi', 'best_params', \n",
    "              'state_tomo_fids_simulator','mean_fid_simulator', 'std_fid_simulator']\n",
    "\n",
    "df_results_simulator_2nd_order = df_results_simulator_2nd_order[cols_order].copy()\n",
    "\n",
    "# =========================================\n",
    "\n",
    "final_results_2nd_order = (df_results_simulator_2nd_order.merge(df_results_hardware_2nd_order,\n",
    "                                                               on=\"order n_steps t_min\".split(),\n",
    "                                                               how=\"outer\")\n",
    "                                                         .sort_values(\"mean_fid_hardware\",\n",
    "                                                                      ascending=False))\n",
    "\n",
    "final_results_2nd_order.to_parquet('results/final_results_second_order_2022-04-06.parquet')"
   ]
  },
  {
   "cell_type": "code",
   "execution_count": 8,
   "metadata": {
    "ExecuteTime": {
     "end_time": "2022-04-14T17:41:49.841376Z",
     "start_time": "2022-04-14T17:41:49.473036Z"
    }
   },
   "outputs": [
    {
     "data": {
      "text/html": [
       "<div>\n",
       "<style scoped>\n",
       "    .dataframe tbody tr th:only-of-type {\n",
       "        vertical-align: middle;\n",
       "    }\n",
       "\n",
       "    .dataframe tbody tr th {\n",
       "        vertical-align: top;\n",
       "    }\n",
       "\n",
       "    .dataframe thead th {\n",
       "        text-align: right;\n",
       "    }\n",
       "</style>\n",
       "<table border=\"1\" class=\"dataframe\">\n",
       "  <thead>\n",
       "    <tr style=\"text-align: right;\">\n",
       "      <th></th>\n",
       "      <th>order</th>\n",
       "      <th>n_steps</th>\n",
       "      <th>t_min</th>\n",
       "      <th>mean_fid_simulator</th>\n",
       "      <th>std_fid_simulator</th>\n",
       "      <th>mean_fid_hardware</th>\n",
       "      <th>std_fid_hardware</th>\n",
       "    </tr>\n",
       "  </thead>\n",
       "  <tbody>\n",
       "    <tr>\n",
       "      <th>0</th>\n",
       "      <td>1</td>\n",
       "      <td>4</td>\n",
       "      <td>0.0010</td>\n",
       "      <td>0.649379</td>\n",
       "      <td>0.001359</td>\n",
       "      <td>0.323645</td>\n",
       "      <td>0.055618</td>\n",
       "    </tr>\n",
       "    <tr>\n",
       "      <th>1</th>\n",
       "      <td>1</td>\n",
       "      <td>4</td>\n",
       "      <td>0.0005</td>\n",
       "      <td>0.649451</td>\n",
       "      <td>0.001861</td>\n",
       "      <td>0.309772</td>\n",
       "      <td>0.040530</td>\n",
       "    </tr>\n",
       "    <tr>\n",
       "      <th>3</th>\n",
       "      <td>1</td>\n",
       "      <td>5</td>\n",
       "      <td>0.0005</td>\n",
       "      <td>0.599924</td>\n",
       "      <td>0.001298</td>\n",
       "      <td>0.286357</td>\n",
       "      <td>0.065704</td>\n",
       "    </tr>\n",
       "    <tr>\n",
       "      <th>2</th>\n",
       "      <td>1</td>\n",
       "      <td>5</td>\n",
       "      <td>0.0010</td>\n",
       "      <td>0.601407</td>\n",
       "      <td>0.002266</td>\n",
       "      <td>0.283416</td>\n",
       "      <td>0.012728</td>\n",
       "    </tr>\n",
       "    <tr>\n",
       "      <th>5</th>\n",
       "      <td>1</td>\n",
       "      <td>6</td>\n",
       "      <td>0.0005</td>\n",
       "      <td>0.556315</td>\n",
       "      <td>0.001974</td>\n",
       "      <td>0.222626</td>\n",
       "      <td>0.007917</td>\n",
       "    </tr>\n",
       "    <tr>\n",
       "      <th>4</th>\n",
       "      <td>1</td>\n",
       "      <td>6</td>\n",
       "      <td>0.0010</td>\n",
       "      <td>0.556933</td>\n",
       "      <td>0.001898</td>\n",
       "      <td>0.209766</td>\n",
       "      <td>0.028509</td>\n",
       "    </tr>\n",
       "    <tr>\n",
       "      <th>6</th>\n",
       "      <td>1</td>\n",
       "      <td>7</td>\n",
       "      <td>0.0005</td>\n",
       "      <td>0.517973</td>\n",
       "      <td>0.001461</td>\n",
       "      <td>0.173693</td>\n",
       "      <td>0.012195</td>\n",
       "    </tr>\n",
       "    <tr>\n",
       "      <th>8</th>\n",
       "      <td>1</td>\n",
       "      <td>8</td>\n",
       "      <td>0.0005</td>\n",
       "      <td>0.481799</td>\n",
       "      <td>0.001568</td>\n",
       "      <td>0.139791</td>\n",
       "      <td>0.003146</td>\n",
       "    </tr>\n",
       "    <tr>\n",
       "      <th>9</th>\n",
       "      <td>1</td>\n",
       "      <td>8</td>\n",
       "      <td>0.0010</td>\n",
       "      <td>0.482330</td>\n",
       "      <td>0.001791</td>\n",
       "      <td>0.134752</td>\n",
       "      <td>0.006762</td>\n",
       "    </tr>\n",
       "    <tr>\n",
       "      <th>7</th>\n",
       "      <td>1</td>\n",
       "      <td>7</td>\n",
       "      <td>0.0010</td>\n",
       "      <td>0.516184</td>\n",
       "      <td>0.002508</td>\n",
       "      <td>0.122442</td>\n",
       "      <td>0.019401</td>\n",
       "    </tr>\n",
       "  </tbody>\n",
       "</table>\n",
       "</div>"
      ],
      "text/plain": [
       "   order  n_steps   t_min  mean_fid_simulator  std_fid_simulator  \\\n",
       "0      1        4  0.0010            0.649379           0.001359   \n",
       "1      1        4  0.0005            0.649451           0.001861   \n",
       "3      1        5  0.0005            0.599924           0.001298   \n",
       "2      1        5  0.0010            0.601407           0.002266   \n",
       "5      1        6  0.0005            0.556315           0.001974   \n",
       "4      1        6  0.0010            0.556933           0.001898   \n",
       "6      1        7  0.0005            0.517973           0.001461   \n",
       "8      1        8  0.0005            0.481799           0.001568   \n",
       "9      1        8  0.0010            0.482330           0.001791   \n",
       "7      1        7  0.0010            0.516184           0.002508   \n",
       "\n",
       "   mean_fid_hardware  std_fid_hardware  \n",
       "0           0.323645          0.055618  \n",
       "1           0.309772          0.040530  \n",
       "3           0.286357          0.065704  \n",
       "2           0.283416          0.012728  \n",
       "5           0.222626          0.007917  \n",
       "4           0.209766          0.028509  \n",
       "6           0.173693          0.012195  \n",
       "8           0.139791          0.003146  \n",
       "9           0.134752          0.006762  \n",
       "7           0.122442          0.019401  "
      ]
     },
     "execution_count": 8,
     "metadata": {},
     "output_type": "execute_result"
    }
   ],
   "source": [
    "final_results_1st_order[['order', 'n_steps', 't_min', \n",
    "                         'mean_fid_simulator', 'std_fid_simulator',\n",
    "                         'mean_fid_hardware', 'std_fid_hardware']]"
   ]
  },
  {
   "cell_type": "code",
   "execution_count": 9,
   "metadata": {
    "ExecuteTime": {
     "end_time": "2022-04-14T17:41:50.094408Z",
     "start_time": "2022-04-14T17:41:49.847373Z"
    }
   },
   "outputs": [
    {
     "data": {
      "text/html": [
       "<div>\n",
       "<style scoped>\n",
       "    .dataframe tbody tr th:only-of-type {\n",
       "        vertical-align: middle;\n",
       "    }\n",
       "\n",
       "    .dataframe tbody tr th {\n",
       "        vertical-align: top;\n",
       "    }\n",
       "\n",
       "    .dataframe thead th {\n",
       "        text-align: right;\n",
       "    }\n",
       "</style>\n",
       "<table border=\"1\" class=\"dataframe\">\n",
       "  <thead>\n",
       "    <tr style=\"text-align: right;\">\n",
       "      <th></th>\n",
       "      <th>order</th>\n",
       "      <th>n_steps</th>\n",
       "      <th>t_min</th>\n",
       "      <th>mean_fid_simulator</th>\n",
       "      <th>std_fid_simulator</th>\n",
       "      <th>mean_fid_hardware</th>\n",
       "      <th>std_fid_hardware</th>\n",
       "    </tr>\n",
       "  </thead>\n",
       "  <tbody>\n",
       "    <tr>\n",
       "      <th>0</th>\n",
       "      <td>2</td>\n",
       "      <td>4</td>\n",
       "      <td>0.01</td>\n",
       "      <td>0.491671</td>\n",
       "      <td>0.002049</td>\n",
       "      <td>0.175617</td>\n",
       "      <td>0.003995</td>\n",
       "    </tr>\n",
       "    <tr>\n",
       "      <th>1</th>\n",
       "      <td>2</td>\n",
       "      <td>4</td>\n",
       "      <td>0.10</td>\n",
       "      <td>0.426211</td>\n",
       "      <td>0.002897</td>\n",
       "      <td>0.155394</td>\n",
       "      <td>0.011532</td>\n",
       "    </tr>\n",
       "    <tr>\n",
       "      <th>3</th>\n",
       "      <td>2</td>\n",
       "      <td>5</td>\n",
       "      <td>0.01</td>\n",
       "      <td>0.404326</td>\n",
       "      <td>0.001813</td>\n",
       "      <td>0.132190</td>\n",
       "      <td>0.003122</td>\n",
       "    </tr>\n",
       "    <tr>\n",
       "      <th>5</th>\n",
       "      <td>2</td>\n",
       "      <td>7</td>\n",
       "      <td>0.01</td>\n",
       "      <td>0.361955</td>\n",
       "      <td>0.002404</td>\n",
       "      <td>0.125643</td>\n",
       "      <td>0.005801</td>\n",
       "    </tr>\n",
       "    <tr>\n",
       "      <th>7</th>\n",
       "      <td>2</td>\n",
       "      <td>7</td>\n",
       "      <td>0.10</td>\n",
       "      <td>0.320309</td>\n",
       "      <td>0.001929</td>\n",
       "      <td>0.124692</td>\n",
       "      <td>0.005358</td>\n",
       "    </tr>\n",
       "    <tr>\n",
       "      <th>8</th>\n",
       "      <td>2</td>\n",
       "      <td>6</td>\n",
       "      <td>0.10</td>\n",
       "      <td>0.243797</td>\n",
       "      <td>0.002272</td>\n",
       "      <td>0.119922</td>\n",
       "      <td>0.002118</td>\n",
       "    </tr>\n",
       "    <tr>\n",
       "      <th>9</th>\n",
       "      <td>2</td>\n",
       "      <td>8</td>\n",
       "      <td>0.10</td>\n",
       "      <td>0.226618</td>\n",
       "      <td>0.002280</td>\n",
       "      <td>0.109857</td>\n",
       "      <td>0.002522</td>\n",
       "    </tr>\n",
       "    <tr>\n",
       "      <th>2</th>\n",
       "      <td>2</td>\n",
       "      <td>5</td>\n",
       "      <td>0.10</td>\n",
       "      <td>0.425557</td>\n",
       "      <td>0.001598</td>\n",
       "      <td>0.106302</td>\n",
       "      <td>0.001596</td>\n",
       "    </tr>\n",
       "    <tr>\n",
       "      <th>6</th>\n",
       "      <td>2</td>\n",
       "      <td>8</td>\n",
       "      <td>0.01</td>\n",
       "      <td>0.338774</td>\n",
       "      <td>0.001829</td>\n",
       "      <td>0.102952</td>\n",
       "      <td>0.008017</td>\n",
       "    </tr>\n",
       "    <tr>\n",
       "      <th>4</th>\n",
       "      <td>2</td>\n",
       "      <td>6</td>\n",
       "      <td>0.01</td>\n",
       "      <td>0.396112</td>\n",
       "      <td>0.002108</td>\n",
       "      <td>0.095176</td>\n",
       "      <td>0.004031</td>\n",
       "    </tr>\n",
       "  </tbody>\n",
       "</table>\n",
       "</div>"
      ],
      "text/plain": [
       "   order  n_steps  t_min  mean_fid_simulator  std_fid_simulator  \\\n",
       "0      2        4   0.01            0.491671           0.002049   \n",
       "1      2        4   0.10            0.426211           0.002897   \n",
       "3      2        5   0.01            0.404326           0.001813   \n",
       "5      2        7   0.01            0.361955           0.002404   \n",
       "7      2        7   0.10            0.320309           0.001929   \n",
       "8      2        6   0.10            0.243797           0.002272   \n",
       "9      2        8   0.10            0.226618           0.002280   \n",
       "2      2        5   0.10            0.425557           0.001598   \n",
       "6      2        8   0.01            0.338774           0.001829   \n",
       "4      2        6   0.01            0.396112           0.002108   \n",
       "\n",
       "   mean_fid_hardware  std_fid_hardware  \n",
       "0           0.175617          0.003995  \n",
       "1           0.155394          0.011532  \n",
       "3           0.132190          0.003122  \n",
       "5           0.125643          0.005801  \n",
       "7           0.124692          0.005358  \n",
       "8           0.119922          0.002118  \n",
       "9           0.109857          0.002522  \n",
       "2           0.106302          0.001596  \n",
       "6           0.102952          0.008017  \n",
       "4           0.095176          0.004031  "
      ]
     },
     "execution_count": 9,
     "metadata": {},
     "output_type": "execute_result"
    }
   ],
   "source": [
    "final_results_2nd_order[['order', 'n_steps', 't_min', \n",
    "                         'mean_fid_simulator', 'std_fid_simulator',\n",
    "                         'mean_fid_hardware', 'std_fid_hardware']]"
   ]
  },
  {
   "cell_type": "markdown",
   "metadata": {
    "ExecuteTime": {
     "end_time": "2022-04-14T14:36:31.487734Z",
     "start_time": "2022-04-14T14:36:31.285665Z"
    }
   },
   "source": [
    "______________\n",
    "______________\n",
    "______________\n",
    "______________\n",
    "______________\n",
    "______________"
   ]
  }
 ],
 "metadata": {
  "kernelspec": {
   "display_name": "Python 3",
   "language": "python",
   "name": "python3"
  },
  "language_info": {
   "codemirror_mode": {
    "name": "ipython",
    "version": 3
   },
   "file_extension": ".py",
   "mimetype": "text/x-python",
   "name": "python",
   "nbconvert_exporter": "python",
   "pygments_lexer": "ipython3",
   "version": "3.8.3"
  },
  "toc-autonumbering": false,
  "toc-showcode": false,
  "toc-showmarkdowntxt": false,
  "toc-showtags": false
 },
 "nbformat": 4,
 "nbformat_minor": 5
}
