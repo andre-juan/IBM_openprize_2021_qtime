{
 "cells": [
  {
   "cell_type": "markdown",
   "metadata": {},
   "source": [
    "###### vx - retrieve hardware execution\n",
    "\n",
    "___________________\n",
    "___________________\n",
    "___________________"
   ]
  },
  {
   "cell_type": "code",
   "execution_count": 1,
   "metadata": {
    "ExecuteTime": {
     "end_time": "2022-04-08T11:43:46.061883Z",
     "start_time": "2022-04-08T11:42:59.681761Z"
    }
   },
   "outputs": [],
   "source": [
    "%load_ext autoreload\n",
    "%autoreload 2\n",
    "\n",
    "from troter_utils import *"
   ]
  },
  {
   "cell_type": "markdown",
   "metadata": {},
   "source": [
    "### Quantum Devices\n"
   ]
  },
  {
   "cell_type": "code",
   "execution_count": 2,
   "metadata": {
    "ExecuteTime": {
     "end_time": "2022-04-08T11:43:59.258679Z",
     "start_time": "2022-04-08T11:43:46.068864Z"
    }
   },
   "outputs": [],
   "source": [
    "# load IBMQ Account data\n",
    "provider = IBMQ.load_account()\n",
    "\n",
    "# Get backend for experiment\n",
    "provider = IBMQ.get_provider(hub='ibm-q-community', group='ibmquantumawards', project='open-science-22')\n",
    "jakarta = provider.get_backend('ibmq_jakarta')\n",
    "\n",
    "# Simulated backend based on ibmq_jakarta's device noise profile\n",
    "sim_noisy_jakarta = QasmSimulator.from_backend(provider.get_backend('ibmq_jakarta'))\n",
    "\n",
    "# Noiseless simulated backend\n",
    "sim_no_noise = QasmSimulator()"
   ]
  },
  {
   "cell_type": "markdown",
   "metadata": {},
   "source": [
    "____________"
   ]
  },
  {
   "cell_type": "markdown",
   "metadata": {},
   "source": [
    "## Retrieve jobs"
   ]
  },
  {
   "cell_type": "code",
   "execution_count": 65,
   "metadata": {
    "ExecuteTime": {
     "end_time": "2022-04-08T12:19:31.044373Z",
     "start_time": "2022-04-08T12:19:06.644095Z"
    }
   },
   "outputs": [
    {
     "data": {
      "text/html": [
       "<div>\n",
       "<style scoped>\n",
       "    .dataframe tbody tr th:only-of-type {\n",
       "        vertical-align: middle;\n",
       "    }\n",
       "\n",
       "    .dataframe tbody tr th {\n",
       "        vertical-align: top;\n",
       "    }\n",
       "\n",
       "    .dataframe thead th {\n",
       "        text-align: right;\n",
       "    }\n",
       "</style>\n",
       "<table border=\"1\" class=\"dataframe\">\n",
       "  <thead>\n",
       "    <tr style=\"text-align: right;\">\n",
       "      <th></th>\n",
       "      <th>job</th>\n",
       "      <th>date</th>\n",
       "    </tr>\n",
       "  </thead>\n",
       "  <tbody>\n",
       "    <tr>\n",
       "      <th>0</th>\n",
       "      <td>&lt;qiskit.providers.ibmq.job.ibmqjob.IBMQJob obj...</td>\n",
       "      <td>2022-04-04</td>\n",
       "    </tr>\n",
       "    <tr>\n",
       "      <th>1</th>\n",
       "      <td>&lt;qiskit.providers.ibmq.job.ibmqjob.IBMQJob obj...</td>\n",
       "      <td>2022-04-04</td>\n",
       "    </tr>\n",
       "    <tr>\n",
       "      <th>2</th>\n",
       "      <td>&lt;qiskit.providers.ibmq.job.ibmqjob.IBMQJob obj...</td>\n",
       "      <td>2022-04-04</td>\n",
       "    </tr>\n",
       "    <tr>\n",
       "      <th>3</th>\n",
       "      <td>&lt;qiskit.providers.ibmq.job.ibmqjob.IBMQJob obj...</td>\n",
       "      <td>2022-04-04</td>\n",
       "    </tr>\n",
       "    <tr>\n",
       "      <th>4</th>\n",
       "      <td>&lt;qiskit.providers.ibmq.job.ibmqjob.IBMQJob obj...</td>\n",
       "      <td>2022-04-04</td>\n",
       "    </tr>\n",
       "    <tr>\n",
       "      <th>5</th>\n",
       "      <td>&lt;qiskit.providers.ibmq.job.ibmqjob.IBMQJob obj...</td>\n",
       "      <td>2022-04-04</td>\n",
       "    </tr>\n",
       "    <tr>\n",
       "      <th>6</th>\n",
       "      <td>&lt;qiskit.providers.ibmq.job.ibmqjob.IBMQJob obj...</td>\n",
       "      <td>2022-04-04</td>\n",
       "    </tr>\n",
       "    <tr>\n",
       "      <th>7</th>\n",
       "      <td>&lt;qiskit.providers.ibmq.job.ibmqjob.IBMQJob obj...</td>\n",
       "      <td>2022-04-04</td>\n",
       "    </tr>\n",
       "    <tr>\n",
       "      <th>8</th>\n",
       "      <td>&lt;qiskit.providers.ibmq.job.ibmqjob.IBMQJob obj...</td>\n",
       "      <td>2022-02-23</td>\n",
       "    </tr>\n",
       "    <tr>\n",
       "      <th>9</th>\n",
       "      <td>&lt;qiskit.providers.ibmq.job.ibmqjob.IBMQJob obj...</td>\n",
       "      <td>2022-02-23</td>\n",
       "    </tr>\n",
       "    <tr>\n",
       "      <th>10</th>\n",
       "      <td>&lt;qiskit.providers.ibmq.job.ibmqjob.IBMQJob obj...</td>\n",
       "      <td>2022-02-23</td>\n",
       "    </tr>\n",
       "    <tr>\n",
       "      <th>11</th>\n",
       "      <td>&lt;qiskit.providers.ibmq.job.ibmqjob.IBMQJob obj...</td>\n",
       "      <td>2022-02-23</td>\n",
       "    </tr>\n",
       "    <tr>\n",
       "      <th>12</th>\n",
       "      <td>&lt;qiskit.providers.ibmq.job.ibmqjob.IBMQJob obj...</td>\n",
       "      <td>2022-02-23</td>\n",
       "    </tr>\n",
       "    <tr>\n",
       "      <th>13</th>\n",
       "      <td>&lt;qiskit.providers.ibmq.job.ibmqjob.IBMQJob obj...</td>\n",
       "      <td>2022-02-23</td>\n",
       "    </tr>\n",
       "    <tr>\n",
       "      <th>14</th>\n",
       "      <td>&lt;qiskit.providers.ibmq.job.ibmqjob.IBMQJob obj...</td>\n",
       "      <td>2022-02-23</td>\n",
       "    </tr>\n",
       "    <tr>\n",
       "      <th>15</th>\n",
       "      <td>&lt;qiskit.providers.ibmq.job.ibmqjob.IBMQJob obj...</td>\n",
       "      <td>2022-02-23</td>\n",
       "    </tr>\n",
       "  </tbody>\n",
       "</table>\n",
       "</div>"
      ],
      "text/plain": [
       "                                                  job        date\n",
       "0   <qiskit.providers.ibmq.job.ibmqjob.IBMQJob obj...  2022-04-04\n",
       "1   <qiskit.providers.ibmq.job.ibmqjob.IBMQJob obj...  2022-04-04\n",
       "2   <qiskit.providers.ibmq.job.ibmqjob.IBMQJob obj...  2022-04-04\n",
       "3   <qiskit.providers.ibmq.job.ibmqjob.IBMQJob obj...  2022-04-04\n",
       "4   <qiskit.providers.ibmq.job.ibmqjob.IBMQJob obj...  2022-04-04\n",
       "5   <qiskit.providers.ibmq.job.ibmqjob.IBMQJob obj...  2022-04-04\n",
       "6   <qiskit.providers.ibmq.job.ibmqjob.IBMQJob obj...  2022-04-04\n",
       "7   <qiskit.providers.ibmq.job.ibmqjob.IBMQJob obj...  2022-04-04\n",
       "8   <qiskit.providers.ibmq.job.ibmqjob.IBMQJob obj...  2022-02-23\n",
       "9   <qiskit.providers.ibmq.job.ibmqjob.IBMQJob obj...  2022-02-23\n",
       "10  <qiskit.providers.ibmq.job.ibmqjob.IBMQJob obj...  2022-02-23\n",
       "11  <qiskit.providers.ibmq.job.ibmqjob.IBMQJob obj...  2022-02-23\n",
       "12  <qiskit.providers.ibmq.job.ibmqjob.IBMQJob obj...  2022-02-23\n",
       "13  <qiskit.providers.ibmq.job.ibmqjob.IBMQJob obj...  2022-02-23\n",
       "14  <qiskit.providers.ibmq.job.ibmqjob.IBMQJob obj...  2022-02-23\n",
       "15  <qiskit.providers.ibmq.job.ibmqjob.IBMQJob obj...  2022-02-23"
      ]
     },
     "execution_count": 65,
     "metadata": {},
     "output_type": "execute_result"
    }
   ],
   "source": [
    "completed_jobs = [x for x in jakarta.jobs(limit=1000) if x._api_status == 'COMPLETED']\n",
    "\n",
    "dates_completed = [x._creation_date.date() for x in completed_jobs]\n",
    "\n",
    "df_retrieved_jobs = pd.DataFrame({\"job\" : completed_jobs, \"date\" : dates_completed})\n",
    "\n",
    "df_retrieved_jobs"
   ]
  },
  {
   "cell_type": "code",
   "execution_count": 67,
   "metadata": {
    "ExecuteTime": {
     "end_time": "2022-04-08T12:30:06.004134Z",
     "start_time": "2022-04-08T12:30:02.569067Z"
    }
   },
   "outputs": [
    {
     "name": "stdout",
     "output_type": "stream",
     "text": [
      "\n",
      "Jobs in 2022-02-23:\n",
      "\n",
      "ID job 1: 6215905857bc54332962bf55\n",
      "ID job 2: 62159052bc41280455b6a897\n",
      "ID job 3: 6215904c1710607e4badfcc6\n",
      "ID job 4: 62159046bc4128549bb6a896\n",
      "ID job 5: 6215904012d1b61ec4b81c04\n",
      "ID job 6: 6215903aacb5ef2024d9850d\n",
      "ID job 7: 62159034ffea130f2b1be8c1\n",
      "ID job 8: 6215902d171060756aadfcc2\n",
      "\n",
      "Final results for jobs above\n",
      "\n",
      "State tomography fidelity = 0.5204 ± 0.0075\n",
      "\n",
      "================================================================================\n",
      "\n",
      "Jobs in 2022-04-04:\n",
      "\n",
      "ID job 1: 624af66499622534288bb8a0\n",
      "ID job 2: 624af657267dc73fccbd8a96\n",
      "ID job 3: 624af64a133bfdf6165ac36c\n",
      "ID job 4: 624af63db3213dfb2ac06576\n",
      "ID job 5: 624af62f1a95e09af25cdfe4\n",
      "ID job 6: 624af623be9f60092c771c2d\n",
      "ID job 7: 624af611133bfd6b235ac36b\n",
      "ID job 8: 624af604f9156f34f6cc05c8\n",
      "\n",
      "Final results for jobs above\n",
      "\n",
      "State tomography fidelity = 0.2466 ± 0.0137\n",
      "\n",
      "================================================================================\n"
     ]
    }
   ],
   "source": [
    "# for now, grouping by date\n",
    "# the newer jobs were all sent in the same day.. so it'll probably be better\n",
    "# to retrieve by the IDs. will do this later.\n",
    "for date, jobs_in_date in df_retrieved_jobs.groupby(\"date\"):\n",
    "    \n",
    "    print(f\"\\nJobs in {date}:\\n\")\n",
    "    \n",
    "    jobs = jobs_in_date[\"job\"].values\n",
    "    \n",
    "    print(*[f\"ID job {i+1}: {x._job_id}\" for i, x in enumerate(jobs)], sep=\"\\n\")\n",
    "\n",
    "    final_fidelities_retrieved(jobs)\n",
    "    \n",
    "    print()\n",
    "    print(\"=\"*80)"
   ]
  },
  {
   "cell_type": "markdown",
   "metadata": {},
   "source": [
    "___________"
   ]
  },
  {
   "cell_type": "markdown",
   "metadata": {},
   "source": [
    "## Retrieve hardware execution with:"
   ]
  },
  {
   "cell_type": "code",
   "execution_count": 3,
   "metadata": {},
   "outputs": [],
   "source": [
    "#try\n",
    "order = 1\n",
    "STEPS = 4\n",
    "min_t = 0.01"
   ]
  },
  {
   "cell_type": "code",
   "execution_count": 4,
   "metadata": {},
   "outputs": [],
   "source": [
    "# Completed jobs ID\n",
    "jbsIDs= ['6249edcee978c730fdfb209e',\n",
    "         '6249edd69962254bbb8bb657',\n",
    "         '6249eddbf9156f2336cc034d',\n",
    "         '6249eddf996225012a8bb658',\n",
    "         '6249ede3133bfd15d95ac10a',\n",
    "         '6249ede8be9f6036807719b6',\n",
    "         '6249edec7130e1a7e35b2e54',\n",
    "         '6249edef99622589258bb659']\n"
   ]
  },
  {
   "cell_type": "code",
   "execution_count": 5,
   "metadata": {},
   "outputs": [
    {
     "name": "stdout",
     "output_type": "stream",
     "text": [
      "6249edcee978c730fdfb209e LOADED!\n",
      "6249edd69962254bbb8bb657 LOADED!\n",
      "6249eddbf9156f2336cc034d LOADED!\n",
      "6249eddf996225012a8bb658 LOADED!\n",
      "6249ede3133bfd15d95ac10a LOADED!\n",
      "6249ede8be9f6036807719b6 LOADED!\n",
      "6249edec7130e1a7e35b2e54 LOADED!\n",
      "6249edef99622589258bb659 LOADED!\n"
     ]
    }
   ],
   "source": [
    "jobsd = {}\n",
    "for c,jbid in enumerate(jbsIDs):\n",
    "    jobsd[c] = jakarta.retrieve_job(jbid)\n",
    "    print(jbid,'LOADED!')"
   ]
  },
  {
   "cell_type": "code",
   "execution_count": 7,
   "metadata": {},
   "outputs": [],
   "source": [
    "best_params = [0.01,  1.56,  0.01,  1.562]\n",
    "st_qcs      = state_tomagraphy_circs(order, STEPS, uniform_times=False, steps_times=best_params)"
   ]
  },
  {
   "cell_type": "code",
   "execution_count": 10,
   "metadata": {},
   "outputs": [
    {
     "name": "stdout",
     "output_type": "stream",
     "text": [
      "0 DONE\n",
      "1 DONE\n",
      "2 DONE\n",
      "3 DONE\n",
      "4 DONE\n",
      "5 DONE\n",
      "6 DONE\n",
      "7 DONE\n"
     ]
    }
   ],
   "source": [
    "# Compute tomography fidelities for each repetition\n",
    "fids = []\n",
    "\n",
    "for k in jobsd:\n",
    "    fid = state_tomo(jobsd[k].result(), st_qcs)\n",
    "    fids.append(fid)\n",
    "    print(k,'DONE')"
   ]
  },
  {
   "cell_type": "code",
   "execution_count": 11,
   "metadata": {},
   "outputs": [
    {
     "data": {
      "text/plain": [
       "[0.2071066452536354,\n",
       " 0.20798413165329585,\n",
       " 0.20981964638226672,\n",
       " 0.20325432772496227,\n",
       " 0.20882602038969406,\n",
       " 0.20258631343542355,\n",
       " 0.1972393408848579,\n",
       " 0.20566002750692328]"
      ]
     },
     "execution_count": 11,
     "metadata": {},
     "output_type": "execute_result"
    }
   ],
   "source": [
    "fids"
   ]
  },
  {
   "cell_type": "code",
   "execution_count": 12,
   "metadata": {},
   "outputs": [
    {
     "name": "stdout",
     "output_type": "stream",
     "text": [
      "State tomography fidelity = 0.2053 ± 0.0039\n"
     ]
    }
   ],
   "source": [
    "print('State tomography fidelity = {:.4f} \\u00B1 {:.4f}'.format(np.mean(fids), np.std(fids)))"
   ]
  }
 ],
 "metadata": {
  "kernelspec": {
   "display_name": "Python 3",
   "language": "python",
   "name": "python3"
  },
  "language_info": {
   "codemirror_mode": {
    "name": "ipython",
    "version": 3
   },
   "file_extension": ".py",
   "mimetype": "text/x-python",
   "name": "python",
   "nbconvert_exporter": "python",
   "pygments_lexer": "ipython3",
   "version": "3.8.3"
  },
  "toc-autonumbering": false,
  "toc-showcode": false,
  "toc-showmarkdowntxt": false,
  "toc-showtags": false
 },
 "nbformat": 4,
 "nbformat_minor": 5
}
